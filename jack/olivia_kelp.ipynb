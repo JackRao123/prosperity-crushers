{
 "cells": [
  {
   "cell_type": "markdown",
   "id": "9279142a",
   "metadata": {},
   "source": [
    "# Guide on how to use the backtester"
   ]
  },
  {
   "cell_type": "code",
   "execution_count": 15,
   "id": "a715a54c",
   "metadata": {},
   "outputs": [],
   "source": [
    "# Ensure the project root is in PATH.\n",
    "import sys\n",
    "sys.path.append(\"..\")\n",
    "# All imports of our code are relative to the project root.\n",
    "\n",
    "from backtester.engine import Backtester\n",
    "from backtester.datamodel import TradingState, OrderDepth, Order, Listing\n",
    "import matplotlib.pyplot as plt\n",
    "\n",
    "import numpy as np\n",
    "import pandas as pd\n",
    "import sys\n",
    "import os"
   ]
  },
  {
   "cell_type": "markdown",
   "id": "ff4a2c5b",
   "metadata": {},
   "source": [
    "This is the implementation of our trader"
   ]
  },
  {
   "cell_type": "code",
   "execution_count": null,
   "id": "1c749aa8",
   "metadata": {},
   "outputs": [],
   "source": [
    "from datamodel import OrderDepth, UserId, TradingState, Order, ConversionObservation, Observation\n",
    "\n",
    "import numpy as np\n",
    "\n",
    "CROISSANTS = \"CROISSANTS\"\n",
    "DJEMBES = \"DJEMBES\"\n",
    "JAMS = \"JAMS\"\n",
    "KELP = \"KELP\"\n",
    "PICNIC_BASKET1 = \"PICNIC_BASKET1\"\n",
    "PICNIC_BASKET2 = \"PICNIC_BASKET2\"\n",
    "RAINFOREST_RESIN = \"RAINFOREST_RESIN\"\n",
    "SQUID_INK = \"SQUID_INK\"\n",
    "VOLCANIC_ROCK = \"VOLCANIC_ROCK\"\n",
    "VOLCANIC_ROCK_VOUCHER_10000 = \"VOLCANIC_ROCK_VOUCHER_10000\"\n",
    "VOLCANIC_ROCK_VOUCHER_10250 = \"VOLCANIC_ROCK_VOUCHER_10250\"\n",
    "VOLCANIC_ROCK_VOUCHER_10500 = \"VOLCANIC_ROCK_VOUCHER_10500\"\n",
    "VOLCANIC_ROCK_VOUCHER_9500 = \"VOLCANIC_ROCK_VOUCHER_9500\"\n",
    "VOLCANIC_ROCK_VOUCHER_9750 = \"VOLCANIC_ROCK_VOUCHER_9750\"\n",
    "MAGNIFICENT_MACARONS = \"MAGNIFICENT_MACARONS\"\n",
    "\n",
    "CAMILLA = \"Camilla\"\n",
    "PABLO = \"Pablo\"\n",
    "SUBMISSION = \"SUBMISSION\"\n",
    "\n",
    "\n",
    "class OliviaKelp:\n",
    "    def __init__(self):\n",
    "        # CONSTANT\n",
    "        self.position_limit = {KELP: 50}\n",
    "\n",
    "        # RUNTIME\n",
    "        self.last_buysignal_timestamp = -9999999\n",
    "        self.last_sellsignal_timestamp = -9999999\n",
    "        self.last_olivia_buyprice = -1\n",
    "        self.last_olivia_sellprice = -1\n",
    "\n",
    "        # CONFIG\n",
    "        self.spread_tol = 3\n",
    "        self.signal_timeout = 2500\n",
    "        pass\n",
    "\n",
    "    def run(self, state: TradingState):\n",
    "        result = {}\n",
    "        orders = []\n",
    "        if KELP in state.order_depths:\n",
    "\n",
    "            market_trades = state.market_trades.get(KELP, [])\n",
    "\n",
    "            olivia_buy_vol = 0\n",
    "            olivia_sell_vol = 0\n",
    "            for trade in market_trades:\n",
    "                if trade.buyer == \"Olivia\" and trade.seller != \"Olivia\":\n",
    "                    olivia_buy_vol += trade.quantity\n",
    "                elif trade.seller == \"Olivia\" and trade.buyer != \"Olivia\":\n",
    "                    olivia_sell_vol += trade.quantity\n",
    "\n",
    "            if olivia_buy_vol > olivia_sell_vol:\n",
    "                self.last_buysignal_timestamp = state.timestamp\n",
    "                self.last_olivia_buyprice = trade.price\n",
    "            elif olivia_buy_vol < olivia_sell_vol:\n",
    "                self.last_sellsignal_timestamp = state.timestamp\n",
    "                self.last_olivia_sellprice = trade.price\n",
    "\n",
    "            buy_orders = state.order_depths[KELP].buy_orders\n",
    "            sell_orders = state.order_depths[KELP].sell_orders\n",
    "\n",
    "            time_since_last_buysignal = state.timestamp - self.last_buysignal_timestamp\n",
    "            time_since_last_sellsignal = state.timestamp - self.last_sellsignal_timestamp\n",
    "\n",
    "            min_position = state.position.get(KELP, 0)\n",
    "            max_position = state.position.get(KELP, 0)\n",
    "            midprice = (max(buy_orders) + min(sell_orders)) / 2\n",
    "\n",
    "            if time_since_last_buysignal < time_since_last_sellsignal and time_since_last_buysignal < self.signal_timeout:\n",
    "                # buy signal\n",
    "                for price, qty in sorted(sell_orders.items()):\n",
    "                    qty_executed = min(abs(qty), self.position_limit[KELP] - max_position)\n",
    "\n",
    "                    if qty_executed > 0 and price <= midprice + self.spread_tol:\n",
    "                        orders.append(Order(KELP, price, qty_executed))\n",
    "                        max_position += qty_executed\n",
    "\n",
    "                # limit order\n",
    "                qty_remaining = self.position_limit[KELP] - max_position\n",
    "                if qty_remaining != 0:\n",
    "                    orders.append(Order(KELP, int(np.floor(midprice)), qty_remaining))\n",
    "\n",
    "            elif time_since_last_sellsignal < time_since_last_buysignal and time_since_last_sellsignal < self.signal_timeout:\n",
    "                # sell signal\n",
    "                for price, qty in sorted(buy_orders.items(), reverse=True):\n",
    "                    qty_executed = min(qty, abs(-self.position_limit[KELP] - min_position))\n",
    "\n",
    "                    if qty_executed > 0 and price >= midprice - self.spread_tol:\n",
    "                        orders.append(Order(KELP, price, -qty_executed))\n",
    "                        min_position -= qty_executed\n",
    "\n",
    "                # limit order\n",
    "                qty_remaining = abs(-self.position_limit[KELP] - min_position)\n",
    "                if qty_remaining != 0:\n",
    "                    orders.append(Order(KELP, int(np.ceil(midprice)), -qty_remaining))\n",
    "\n",
    "            result[KELP] = orders\n",
    "\n",
    "        return result, 0, \"\""
   ]
  },
  {
   "cell_type": "markdown",
   "id": "b8687284",
   "metadata": {},
   "source": [
    "Copy paste these below lines whenever you want to access the historical data. These have datatype `pd.Dataframe`.  \n",
    "\n",
    "If you want all 3 days combined into 1, then copy the code for `market_data_all3days` and `trades_all3days`. You can't just `pd.concat()` them all because the backtester doesn't consider day."
   ]
  },
  {
   "cell_type": "code",
   "execution_count": 17,
   "id": "6092f218",
   "metadata": {},
   "outputs": [],
   "source": [
    "# concatenates multiple days of historical data into 1.\n",
    "# drops day column and replaces it with continuous timestamps.\n",
    "# i.e. day -1 timestamp 0 becomes just timestamp 1,000,000\n",
    "def concatenate_historical_data(data: list[pd.DataFrame]) -> pd.DataFrame:\n",
    "    output = data[0]\n",
    "\n",
    "    for i in range(1, len(data), 1):\n",
    "        timeshift = output.iloc[-1][\"timestamp\"] + 100  # 100 for next day\n",
    "        next_day_copy = data[i].copy()\n",
    "        next_day_copy[\"timestamp\"] += timeshift\n",
    "\n",
    "        output = pd.concat([output, next_day_copy])\n",
    "\n",
    "    return output\n",
    "\n",
    "\n",
    "market_data_round_5_day_2 = pd.read_csv(os.path.join(\"..\", \"data\", \"round5\", \"prices_round_5_day_2.csv\"), sep=\";\")\n",
    "market_data_round_5_day_3 = pd.read_csv(os.path.join(\"..\", \"data\", \"round5\", \"prices_round_5_day_3.csv\"), sep=\";\")\n",
    "market_data_round_5_day_4 = pd.read_csv(os.path.join(\"..\", \"data\", \"round5\", \"prices_round_5_day_4.csv\"), sep=\";\")\n",
    "\n",
    "trades_round_5_day_2 = pd.read_csv(os.path.join(\"..\", \"data\", \"round5\", \"trades_round_5_day_2.csv\"), sep=\";\")\n",
    "trades_round_5_day_3 = pd.read_csv(os.path.join(\"..\", \"data\", \"round5\", \"trades_round_5_day_3.csv\"), sep=\";\")\n",
    "trades_round_5_day_4 = pd.read_csv(os.path.join(\"..\", \"data\", \"round5\", \"trades_round_5_day_4.csv\"), sep=\";\")\n",
    "\n",
    "observations_round_5_day_2 = pd.read_csv(os.path.join(\"..\", \"data\", \"round5\", \"observations_round_5_day_2.csv\"), sep=\",\")\n",
    "observations_round_5_day_3 = pd.read_csv(os.path.join(\"..\", \"data\", \"round5\", \"observations_round_5_day_3.csv\"), sep=\",\")\n",
    "observations_round_5_day_4 = pd.read_csv(os.path.join(\"..\", \"data\", \"round5\", \"observations_round_5_day_4.csv\"), sep=\",\")\n",
    "\n",
    "market_data_round_5_all3days = concatenate_historical_data([market_data_round_5_day_2, market_data_round_5_day_3, market_data_round_5_day_4])\n",
    "trades_round_5_all3days = concatenate_historical_data([trades_round_5_day_2, trades_round_5_day_3, trades_round_5_day_4])\n",
    "observations_round_5_all3days = concatenate_historical_data([observations_round_5_day_2, observations_round_5_day_3, observations_round_5_day_4])"
   ]
  },
  {
   "cell_type": "markdown",
   "id": "612809cc",
   "metadata": {},
   "source": [
    "Lets run the backtester"
   ]
  },
  {
   "cell_type": "code",
   "execution_count": 18,
   "id": "2e4cd6ae",
   "metadata": {},
   "outputs": [
    {
     "data": {
      "text/plain": [
       "{'spreadcrossing': {'KELP': 2674.0, 'total': 2674.0},\n",
       " 'midpoint': {'KELP': 3652.0, 'total': 3652.0}}"
      ]
     },
     "execution_count": 18,
     "metadata": {},
     "output_type": "execute_result"
    }
   ],
   "source": [
    "# 1. Define the listings. (optimisation - only define symbols we are trading)\n",
    "listings = {\n",
    "    # \"CROISSANTS\": Listing(symbol=\"CROISSANTS\", product=\"CROISSANTS\", denomination=\"SEASHELLS\"),\n",
    "    # \"DJEMBES\": Listing(symbol=\"DJEMBES\", product=\"DJEMBES\", denomination=\"SEASHELLS\"),\n",
    "    # \"JAMS\": Listing(symbol=\"JAM\", product=\"JAM\", denomination=\"SEASHELLS\"),\n",
    "    \"KELP\": Listing(symbol=\"KELP\", product=\"KELP\", denomination=\"SEASHELLS\"),\n",
    "    # \"PICNIC_BASKET1\": Listing(symbol=\"PICNIC_BASKET1\", product=\"PICNIC_BASKET1\", denomination=\"SEASHELLS\"),\n",
    "    # \"PICNIC_BASKET2\": Listing(symbol=\"PICNIC_BASKET2\", product=\"PICNIC_BASKET2\", denomination=\"SEASHELLS\"),\n",
    "    # \"RAINFOREST_RESIN\": Listing(symbol=\"RAINFOREST_RESIN\", product=\"RAINFOREST_RESIN\", denomination=\"SEASHELLS\"),\n",
    "    # \"SQUID_INK\": Listing(symbol=\"SQUID_INK\", product=\"SQUID_INK\", denomination=\"SEASHELLS\"),\n",
    "    # \"VOLCANIC_ROCK\": Listing(symbol=\"VOLCANIC_ROCK\", product=\"VOLCANIC_ROCK\", denomination=\"SEASHELLS\"),\n",
    "    # \"VOLCANIC_ROCK_VOUCHER_10000\": Listing(symbol=\"VOLCANIC_ROCK_VOUCHER_10000\", product=\"VOLCANIC_ROCK_VOUCHER_10000\", denomination=\"SEASHELLS\"),\n",
    "    # \"VOLCANIC_ROCK_VOUCHER_10250\": Listing(symbol=\"VOLCANIC_ROCK_VOUCHER_10250\", product=\"VOLCANIC_ROCK_VOUCHER_10250\", denomination=\"SEASHELLS\"),\n",
    "    # \"VOLCANIC_ROCK_VOUCHER_10500\": Listing(symbol=\"VOLCANIC_ROCK_VOUCHER_10500\", product=\"VOLCANIC_ROCK_VOUCHER_10500\", denomination=\"SEASHELLS\"),\n",
    "    # \"VOLCANIC_ROCK_VOUCHER_9500\": Listing(symbol=\"VOLCANIC_ROCK_VOUCHER_9500\", product=\"VOLCANIC_ROCK_VOUCHER_9500\", denomination=\"SEASHELLS\"),\n",
    "    # \"VOLCANIC_ROCK_VOUCHER_9750\": Listing(symbol=\"VOLCANIC_ROCK_VOUCHER_9750\", product=\"VOLCANIC_ROCK_VOUCHER_9750\", denomination=\"SEASHELLS\"),\n",
    "    # \"MAGNIFICENT_MACARONS\": Listing(symbol=\"MAGNIFICENT_MACARONS\", product=\"MAGNIFICENT_MACARONS\", denomination=\"SEASHELLS\"),\n",
    "}\n",
    "\n",
    "# 2. Define the position limits. (optimisation - only define symbols we are trading)\n",
    "position_limit = {\n",
    "    # \"CROISSANTS\": 250,\n",
    "    # \"DJEMBES\": 60,\n",
    "    # \"JAMS\": 350,\n",
    "    \"KELP\": 50,\n",
    "    # \"PICNIC_BASKET1\": 60,\n",
    "    # \"PICNIC_BASKET2\": 100,\n",
    "    # \"RAINFOREST_RESIN\": 50,\n",
    "    # \"SQUID_INK\": 50,\n",
    "    # \"VOLCANIC_ROCK\": 400,\n",
    "    # \"VOLCANIC_ROCK_VOUCHER_10000\": 200,\n",
    "    # \"VOLCANIC_ROCK_VOUCHER_10250\": 200,\n",
    "    # \"VOLCANIC_ROCK_VOUCHER_10500\": 200,\n",
    "    # \"VOLCANIC_ROCK_VOUCHER_9500\": 200,\n",
    "    # \"VOLCANIC_ROCK_VOUCHER_9750\": 200,\n",
    "    # \"MAGNIFICENT_MACARONS\": 75,\n",
    "}\n",
    "\n",
    "\n",
    "# 4. Market data and trade history files. (look at the previous cell)\n",
    "\n",
    "# 5. Instantiate Trader object\n",
    "\n",
    "trader = OliviaKelp()\n",
    "\n",
    "# 6. Instantiate Backtester object\n",
    "bt = Backtester(trader, listings, position_limit, market_data_round_5_all3days, trades_round_5_all3days, observations_round_5_all3days)\n",
    "bt.run()\n",
    "bt.pnl()"
   ]
  },
  {
   "cell_type": "code",
   "execution_count": 19,
   "id": "56673183",
   "metadata": {},
   "outputs": [
    {
     "name": "stdout",
     "output_type": "stream",
     "text": [
      "Available metrics: ['timestamp', 'spreadcrossing_pnl', 'spreadcrossing_final_pnl', 'spreadcrossing_sharpe', 'spreadcrossing_pnl_bps', 'midpoint_pnl', 'midpoint_final_pnl', 'midpoint_sharpe', 'midpoint_pnl_bps', 'position']\n",
      "Midpoint sharpe: 0.05022549819053502\n",
      "Spreadcrossing sharpe: 0.036760020497835874\n"
     ]
    },
    {
     "data": {
      "image/png": "[encoded data removed]",
      "text/plain": [
       "<Figure size 1200x600 with 2 Axes>"
      ]
     },
     "metadata": {},
     "output_type": "display_data"
    }
   ],
   "source": [
    "import matplotlib.pyplot as plt\n",
    "\n",
    "product = KELP\n",
    "metrics = bt.calculate_metrics(product)\n",
    "\n",
    "print(f\"Available metrics: {list(metrics.keys())}\")\n",
    "\n",
    "print(f\"Midpoint sharpe: {metrics['midpoint_sharpe']}\")\n",
    "print(f\"Spreadcrossing sharpe: {metrics['spreadcrossing_sharpe']}\")\n",
    "fig, ax1 = plt.subplots(figsize=(12, 6))\n",
    "\n",
    "# First y-axis: PnL\n",
    "ax1.plot(metrics['timestamp'], metrics['spreadcrossing_pnl'], label='Spreadcrossing PnL', color='tab:blue')\n",
    "ax1.plot(metrics['timestamp'], metrics['midpoint_pnl'], label='Midpoint PnL', color='tab:orange')\n",
    "ax1.set_xlabel(\"Timestamp\")\n",
    "ax1.set_ylabel(\"PNL\", color='black')\n",
    "ax1.tick_params(axis='y', labelcolor='black')\n",
    "ax1.legend(loc='upper left')\n",
    "\n",
    "# Second y-axis: Position\n",
    "ax2 = ax1.twinx()\n",
    "ax2.plot(metrics['timestamp'], metrics['position'], label='Position', color='tab:green', alpha=0.6)\n",
    "ax2.set_ylabel(\"Position\", color='tab:green')\n",
    "ax2.tick_params(axis='y', labelcolor='tab:green')\n",
    "ax2.legend(loc='upper right')\n",
    "\n",
    "plt.title(f\"{product} — PNL and Position Over Time\")\n",
    "plt.grid(True)\n",
    "plt.show()\n",
    "\n",
    "\n"
   ]
  },
  {
   "cell_type": "markdown",
   "id": "665d273b",
   "metadata": {},
   "source": [
    "Looks quite promising.  \n",
    "\n",
    "self.spread_tol = 5  # how much we are willing to cross the spread buy to execute  \n",
    "self.signal_timeout = 2000  # time until we stop moving directionally on a previous signal  \n",
    "self.signal_volume_threshold = 1  # the threshold of difference in camilla's buy, sell volume to take it as a signal  \n",
    "\n",
    "Lets try gridsearch to optimise  "
   ]
  },
  {
   "cell_type": "code",
   "execution_count": 20,
   "id": "16bcc4f1",
   "metadata": {},
   "outputs": [],
   "source": [
    "# import itertools\n",
    "# import pandas as pd\n",
    "# from tqdm import tqdm\n",
    "# from joblib import Parallel, delayed\n",
    "\n",
    "# # 1) Define your parameter grid\n",
    "# param_grid = {\n",
    "#     \"spread_tol\":             list(range(0, 11)),            # 0…10\n",
    "#     \"signal_timeout\":         list(range(100, 1501, 100)),   # 100,200,…,1500\n",
    "#     \"signal_volume_threshold\": list(range(0, 9)),            # 0…8\n",
    "# }\n",
    "\n",
    "# # 2) Make every combination\n",
    "# combos = list(itertools.product(\n",
    "#     param_grid[\"spread_tol\"],\n",
    "#     param_grid[\"signal_timeout\"],\n",
    "#     param_grid[\"signal_volume_threshold\"],\n",
    "# ))\n",
    "\n",
    "# # 3) The function to run one backtest\n",
    "# def eval_params(params):\n",
    "#     spread_tol, timeout, vol_th = params\n",
    "    \n",
    "#     # re‑instantiate a fresh trader & set its params\n",
    "#     trader = CamillaPabloTrader()\n",
    "#     trader.spread_tol              = spread_tol\n",
    "#     trader.signal_timeout          = timeout\n",
    "#     trader.signal_volume_threshold = vol_th\n",
    "    \n",
    "#     # run the backtest\n",
    "#     bt = Backtester(\n",
    "#         trader,\n",
    "#         listings,\n",
    "#         position_limit,\n",
    "#         market_data_round_5_all3days,\n",
    "#         trades_round_5_all3days,\n",
    "#         observations_round_5_all3days\n",
    "#     )\n",
    "#     bt.run()\n",
    "#     pnl = bt.pnl()\n",
    "    \n",
    "#     return {\n",
    "#         \"spread_tol\": spread_tol,\n",
    "#         \"signal_timeout\": timeout,\n",
    "#         \"signal_volume_threshold\": vol_th,\n",
    "#         \"spreadcrossing_pnl\": pnl['spreadcrossing'][PICNIC_BASKET2],\n",
    "#         \"midpoint_pnl\": pnl['midpoint'][PICNIC_BASKET2]\n",
    "#     }\n",
    "\n",
    "# # 4) Kick off the grid‑search in parallel\n",
    "# results = Parallel(n_jobs=-1)(\n",
    "#     delayed(eval_params)(params)\n",
    "#     for params in tqdm(combos, desc=\"Grid searching\", total=len(combos))\n",
    "# )\n",
    "\n",
    "# # 5) Collect into a DataFrame & sort by PnL\n",
    "# df = pd.DataFrame(results)\n",
    "# df = df.sort_values(\"midpoint_pnl\", ascending=False).reset_index(drop=True)\n",
    "\n",
    "# # 6) Inspect the top configs\n",
    "# print(df.head(10))\n"
   ]
  },
  {
   "cell_type": "code",
   "execution_count": 21,
   "id": "922b3b68",
   "metadata": {},
   "outputs": [
    {
     "ename": "NameError",
     "evalue": "name 'df' is not defined",
     "output_type": "error",
     "traceback": [
      "\u001b[1;31m---------------------------------------------------------------------------\u001b[0m",
      "\u001b[1;31mNameError\u001b[0m                                 Traceback (most recent call last)",
      "Cell \u001b[1;32mIn[21], line 1\u001b[0m\n\u001b[1;32m----> 1\u001b[0m df \u001b[38;5;241m=\u001b[39m \u001b[43mdf\u001b[49m\u001b[38;5;241m.\u001b[39msort_values(\u001b[38;5;124m\"\u001b[39m\u001b[38;5;124mmidpoint_pnl\u001b[39m\u001b[38;5;124m\"\u001b[39m, ascending\u001b[38;5;241m=\u001b[39m\u001b[38;5;28;01mFalse\u001b[39;00m)\u001b[38;5;241m.\u001b[39mreset_index(drop\u001b[38;5;241m=\u001b[39m\u001b[38;5;28;01mTrue\u001b[39;00m)\n\u001b[0;32m      3\u001b[0m df\n",
      "\u001b[1;31mNameError\u001b[0m: name 'df' is not defined"
     ]
    }
   ],
   "source": [
    "df = df.sort_values(\"midpoint_pnl\", ascending=False).reset_index(drop=True)\n",
    "\n",
    "df"
   ]
  },
  {
   "cell_type": "code",
   "execution_count": null,
   "id": "b844f64b",
   "metadata": {},
   "outputs": [
    {
     "name": "stdout",
     "output_type": "stream",
     "text": [
      "CROISSANTS: (1.2093, 0.40680893549675134)\n",
      "JAMS: (1.615, 0.4865953144040744)\n",
      "PICNIC_BASKET2: (5.2088, 1.0970882188775886)\n"
     ]
    }
   ],
   "source": [
    "th = trades_round_5_day_4.copy()\n",
    "\n",
    "\n",
    "\n",
    "\n",
    "th = th[th['symbol'] == PICNIC_BASKET2]\n",
    "\n",
    "np.sum(th['quantity'])\n",
    "\n",
    "\n",
    "def calc_spread_stats(market_data: pd.DataFrame, product: str):\n",
    "    md = market_data.copy()\n",
    "    md = md[md['product'] == product]\n",
    "\n",
    "    spread = md['ask_price_1'] - md['bid_price_1']\n",
    "\n",
    "    return np.mean(spread), np.std(spread)\n",
    "\n",
    "\n",
    "\n",
    "print(f\"{CROISSANTS}: {calc_spread_stats(market_data_round_5_day_4, CROISSANTS)}\")\n",
    "print(f\"{JAMS}: {calc_spread_stats(market_data_round_5_day_4, JAMS)}\")\n",
    "print(f\"{PICNIC_BASKET2}: {calc_spread_stats(market_data_round_5_day_4, PICNIC_BASKET2)}\")"
   ]
  },
  {
   "cell_type": "code",
   "execution_count": null,
   "id": "138c5e62",
   "metadata": {},
   "outputs": [
    {
     "data": {
      "text/plain": [
       "(7323.471882640587, 6937.815773104108)"
      ]
     },
     "execution_count": 28,
     "metadata": {},
     "output_type": "execute_result"
    }
   ],
   "source": [
    "th = trades_round_5_all3days.copy()\n",
    "\n",
    "party = \"Peter\"\n",
    "th = th[(th['buyer'] == party) ^ (th['seller'] == party)]\n",
    "\n",
    "# np.unique(th['quantity'])\n",
    "d = th['timestamp'].diff().dropna()\n",
    "np.mean(d), np.std(d)\n",
    "\n",
    "\n",
    "# md = market_data_round_5_all3days.copy()\n",
    "# md = md[md['product'] == KELP]\n",
    "\n",
    "\n",
    "# spread = md['ask_price_1'] - md['bid_price_1']\n"
   ]
  }
 ],
 "metadata": {
  "kernelspec": {
   "display_name": "Python 3",
   "language": "python",
   "name": "python3"
  },
  "language_info": {
   "codemirror_mode": {
    "name": "ipython",
    "version": 3
   },
   "file_extension": ".py",
   "mimetype": "text/x-python",
   "name": "python",
   "nbconvert_exporter": "python",
   "pygments_lexer": "ipython3",
   "version": "3.10.11"
  }
 },
 "nbformat": 4,
 "nbformat_minor": 5
}
