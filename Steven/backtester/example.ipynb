{
 "cells": [
  {
   "cell_type": "markdown",
   "id": "9279142a",
   "metadata": {},
   "source": [
    "# Guide on how to use the backtester"
   ]
  },
  {
   "cell_type": "code",
   "execution_count": 8,
   "id": "a715a54c",
   "metadata": {},
   "outputs": [],
   "source": [
    "# Ensure the project root is in PATH.\n",
    "import sys\n",
    "sys.path.append(\"../\")\n",
    "# All imports of our code are relative to the project root.\n",
    "\n",
    "from backtester.backtester import Backtester\n",
    "from backtester.datamodel import TradingState, OrderDepth, Order, Listing\n",
    "\n",
    "import numpy as np\n",
    "import pandas as pd\n",
    "import sys\n",
    "import os"
   ]
  },
  {
   "cell_type": "markdown",
   "id": "ff4a2c5b",
   "metadata": {},
   "source": [
    "This is the implementation of our trader"
   ]
  },
  {
   "cell_type": "code",
   "execution_count": 9,
   "id": "1c749aa8",
   "metadata": {},
   "outputs": [],
   "source": [
    "class Trader:\n",
    "    def __init__(self):\n",
    "        self.position_limit = {\"KELP\": 50, \"RAINFOREST_RESIN\": 50}\n",
    "        pass\n",
    "\n",
    "    def take_best_orders(self, state: TradingState, orderbook: OrderDepth) -> list[Order]:\n",
    "        orders: list[Order] = []\n",
    "\n",
    "        symbol = \"RAINFOREST_RESIN\"\n",
    "        position = state.position[symbol] if symbol in state.position else 0\n",
    "\n",
    "        max_buy_amount = self.position_limit[symbol] - position\n",
    "        max_sell_amount = abs(-self.position_limit[symbol] - position)\n",
    "\n",
    "        if len(orderbook.buy_orders) != 0:\n",
    "            best_bid_price = max(orderbook.buy_orders.keys())\n",
    "            best_bid_volume = orderbook.buy_orders[best_bid_price]\n",
    "\n",
    "            if best_bid_price > 10000:\n",
    "                fill_quantity = min(max_sell_amount, best_bid_volume)\n",
    "\n",
    "                if fill_quantity > 0:\n",
    "                    orders.append(Order(symbol, best_bid_price, -fill_quantity))\n",
    "                    del orderbook.buy_orders[best_bid_price]\n",
    "\n",
    "        if len(orderbook.sell_orders) != 0:\n",
    "            best_ask_price = min(orderbook.sell_orders.keys())\n",
    "            best_ask_volume = abs(orderbook.sell_orders[best_ask_price])\n",
    "\n",
    "            if best_ask_price < 10000:\n",
    "                fill_quantity = min(max_buy_amount, best_ask_volume)\n",
    "\n",
    "                if fill_quantity > 0:\n",
    "                    orders.append(Order(symbol, best_ask_price, fill_quantity))\n",
    "                    del orderbook.sell_orders[best_ask_price]\n",
    "\n",
    "        return orders\n",
    "\n",
    "    def run(self, state: TradingState):\n",
    "        result = {}\n",
    "        for product in state.order_depths:\n",
    "            orders: list[Order] = []\n",
    "\n",
    "            if product == \"RAINFOREST_RESIN\":\n",
    "                took = self.take_best_orders(state, state.order_depths[product])\n",
    "\n",
    "                while len(took) != 0:\n",
    "                    orders = orders + took\n",
    "                    took = self.take_best_orders(state, state.order_depths[product])\n",
    "\n",
    "            result[product] = orders\n",
    "        traderData = \"SAMPLE\"  # String value holding Trader state data required. It will be delivered as TradingState.traderData on next execution.\n",
    "\n",
    "        conversions = 1\n",
    "        return result, conversions, traderData\n"
   ]
  },
  {
   "cell_type": "markdown",
   "id": "b8687284",
   "metadata": {},
   "source": [
    "Copy paste these below lines whenever you want to access the historical data. These have datatype `pd.Dataframe`.  \n",
    "\n",
    "If you want all 3 days combined into 1, then copy the code for `market_data_all3days` and `trades_all3days`. You can't just `pd.concat()` them all because the backtester doesn't consider day."
   ]
  },
  {
   "cell_type": "code",
   "execution_count": 10,
   "id": "6092f218",
   "metadata": {},
   "outputs": [],
   "source": [
    "market_data_day_0 = pd.read_csv(os.path.join(\"..\", \"data\", \"round1\", \"prices_round_1_day_0.csv\"), sep=\";\")\n",
    "market_data_day_neg1 = pd.read_csv(os.path.join(\"..\", \"data\", \"round1\", \"prices_round_1_day_-1.csv\"), sep=\";\")\n",
    "market_data_day_neg2 = pd.read_csv(os.path.join(\"..\", \"data\", \"round1\", \"prices_round_1_day_-2.csv\"), sep=\";\")\n",
    "\n",
    "trades_day_0 = pd.read_csv(os.path.join(\"..\", \"data\", \"round1\", \"trades_round_1_day_0.csv\"), sep=\";\")\n",
    "trades_day_neg1 = pd.read_csv(os.path.join(\"..\", \"data\", \"round1\", \"trades_round_1_day_-1.csv\"), sep=\";\")\n",
    "trades_day_neg2 = pd.read_csv(os.path.join(\"..\", \"data\", \"round1\", \"trades_round_1_day_-2.csv\"), sep=\";\")\n",
    "\n",
    "\n",
    "# concatenates multiple days of historical data into 1.\n",
    "# drops day column and replaces it with continuous timestamps.\n",
    "# i.e. day -1 timestamp 0 becomes just timestamp 1,000,000\n",
    "def concatenate_historical_data(data: list[pd.DataFrame]) -> pd.DataFrame:\n",
    "    output = data[0]\n",
    "\n",
    "    for i in range(1, len(data), 1):\n",
    "        timeshift = output.iloc[-1][\"timestamp\"] + 100  # 100 for next day\n",
    "        next_day_copy = data[i].copy()\n",
    "        next_day_copy[\"timestamp\"] += timeshift\n",
    "\n",
    "        output = pd.concat([output, next_day_copy])\n",
    "\n",
    "    return output\n",
    "\n",
    "market_data_all3days = concatenate_historical_data([market_data_day_neg2, market_data_day_neg1, market_data_day_0])\n",
    "trades_all3days = concatenate_historical_data([trades_day_neg2, trades_day_neg1, trades_day_0])"
   ]
  },
  {
   "cell_type": "markdown",
   "id": "612809cc",
   "metadata": {},
   "source": [
    "Lets run the backtester"
   ]
  },
  {
   "cell_type": "code",
   "execution_count": 11,
   "id": "2e4cd6ae",
   "metadata": {},
   "outputs": [
    {
     "name": "stdout",
     "output_type": "stream",
     "text": [
      "{'KELP': 0.0, 'RAINFOREST_RESIN': 8132, 'SQUID_INK': 0.0}\n"
     ]
    }
   ],
   "source": [
    "# 1. Define the listings.\n",
    "listings = {\n",
    "    \"KELP\": Listing(symbol=\"KELP\", product=\"KELP\", denomination=\"SEASHELLS\"),\n",
    "    \"RAINFOREST_RESIN\": Listing(symbol=\"RAINFOREST_RESIN\", product=\"RAINFOREST_RESIN\", denomination=\"SEASHELLS\"),\n",
    "    \"SQUID_INK\": Listing(symbol=\"SQUID_INK\", product=\"SQUID_INK\", denomination=\"SEASHELLS\"),\n",
    "}\n",
    "\n",
    "# 2. Define the position limits.\n",
    "position_limit = {\n",
    "    \"KELP\": 50,\n",
    "    \"RAINFOREST_RESIN\": 50,\n",
    "    \"SQUID_INK\": 50,\n",
    "}\n",
    "\n",
    "\n",
    "# 3. Define fair value evaluation functions. This is used to determine what our PNL is at times throughout execution when our net position is not 0.\n",
    "def calc_rainforest_resin_fair(order_depth: OrderDepth) -> float:\n",
    "    return 10000\n",
    "\n",
    "\n",
    "fair_value_evaluator = {\n",
    "    # omitting dictionary entries for KELP, SQUID_INK, so that they use default behaviour: fair_price = (best_bid+best_ask)/2\n",
    "    \"RAINFOREST_RESIN\": calc_rainforest_resin_fair,\n",
    "}\n",
    "\n",
    "\n",
    "# 4. Market data and trade history files.\n",
    "# These already exist, look at the previous jupyter cell.\n",
    "\n",
    "# 5. Instantiate trader object\n",
    "trader = Trader()\n",
    "bt = Backtester(trader, listings, position_limit, fair_value_evaluator, market_data_day_0, trades_day_0)\n",
    "\n",
    "\n",
    "bt.run()\n",
    "\n",
    "print(bt.pnl)"
   ]
  },
  {
   "cell_type": "markdown",
   "id": "14a831e9",
   "metadata": {},
   "source": [
    "You can copy paste everything, except for the Trader algo, which should be whatever algo you wish to backtest."
   ]
  }
 ],
 "metadata": {
  "kernelspec": {
   "display_name": "Python 3",
   "language": "python",
   "name": "python3"
  },
  "language_info": {
   "codemirror_mode": {
    "name": "ipython",
    "version": 3
   },
   "file_extension": ".py",
   "mimetype": "text/x-python",
   "name": "python",
   "nbconvert_exporter": "python",
   "pygments_lexer": "ipython3",
   "version": "3.10.11"
  }
 },
 "nbformat": 4,
 "nbformat_minor": 5
}
