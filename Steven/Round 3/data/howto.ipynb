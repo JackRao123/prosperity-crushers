{
 "cells": [
  {
   "cell_type": "code",
   "execution_count": 1,
   "id": "4ca4e0e9",
   "metadata": {},
   "outputs": [],
   "source": [
    "# Ensure the project root is in PATH.\n",
    "import sys\n",
    "\n",
    "sys.path.append(\"../\")\n",
    "# All imports of our code are relative to the project root.\n",
    "\n",
    "from backtester.backtester import Backtester\n",
    "from backtester.datamodel import TradingState, OrderDepth, Order, Listing\n",
    "import matplotlib.pyplot as plt\n",
    "\n",
    "import numpy as np\n",
    "import pandas as pd\n",
    "import sys\n",
    "import os\n",
    "\n",
    "# concatenates multiple days of historical data into 1.\n",
    "# drops day column and replaces it with continuous timestamps.\n",
    "# i.e. day -1 timestamp 0 becomes just timestamp 1,000,000\n",
    "def concatenate_historical_data(data: list[pd.DataFrame]) -> pd.DataFrame:\n",
    "    output = data[0]\n",
    "\n",
    "    for i in range(1, len(data), 1):\n",
    "        timeshift = output.iloc[-1][\"timestamp\"] + 100  # 100 for next day\n",
    "        next_day_copy = data[i].copy()\n",
    "        next_day_copy[\"timestamp\"] += timeshift\n",
    "\n",
    "        output = pd.concat([output, next_day_copy])\n",
    "\n",
    "    return output"
   ]
  },
  {
   "cell_type": "markdown",
   "id": "dbb95111",
   "metadata": {},
   "source": [
    "# How to use the data here?"
   ]
  },
  {
   "cell_type": "markdown",
   "id": "b7791941",
   "metadata": {},
   "source": [
    "Copy paste the below into your .ipynb's when you want the respective data.  \n",
    "This should work if the location of the file is the same hierarchy as this file (i.e. /prosperity-crushers/ + 1 folder)  \n",
    "\n",
    "If its deeper, then modify the os.path.join(...) to match it.  "
   ]
  },
  {
   "cell_type": "markdown",
   "id": "92b2fdcb",
   "metadata": {},
   "source": [
    "## Round 1"
   ]
  },
  {
   "cell_type": "code",
   "execution_count": 2,
   "id": "3e95eff5",
   "metadata": {},
   "outputs": [],
   "source": [
    "market_data_round_1_day_neg2 = pd.read_csv(os.path.join(\"..\", \"data\", \"round1\", \"prices_round_1_day_-2.csv\"), sep=\";\")\n",
    "market_data_round_1_day_neg1 = pd.read_csv(os.path.join(\"..\", \"data\", \"round1\", \"prices_round_1_day_-1.csv\"), sep=\";\")\n",
    "market_data_round_1_day_0 = pd.read_csv(os.path.join(\"..\", \"data\", \"round1\", \"prices_round_1_day_0.csv\"), sep=\";\")\n",
    "\n",
    "trades_round_1_day_neg2 = pd.read_csv(os.path.join(\"..\", \"data\", \"round1\", \"trades_round_1_day_-2.csv\"), sep=\";\")\n",
    "trades_round_1_day_neg1 = pd.read_csv(os.path.join(\"..\", \"data\", \"round1\", \"trades_round_1_day_-1.csv\"), sep=\";\")\n",
    "trades_round_1_day_0 = pd.read_csv(os.path.join(\"..\", \"data\", \"round1\", \"trades_round_1_day_0.csv\"), sep=\";\")\n",
    "\n",
    "\n",
    "market_data_round_1_all3days = concatenate_historical_data([market_data_round_1_day_neg2, market_data_round_1_day_neg1, market_data_round_1_day_0])\n",
    "trades_round_1_all3days = concatenate_historical_data([trades_round_1_day_neg2, trades_round_1_day_neg1, trades_round_1_day_0])"
   ]
  },
  {
   "cell_type": "markdown",
   "id": "70925b43",
   "metadata": {},
   "source": [
    "## Round 2"
   ]
  },
  {
   "cell_type": "code",
   "execution_count": 3,
   "id": "0ee99611",
   "metadata": {},
   "outputs": [],
   "source": [
    "market_data_round_2_day_neg1 = pd.read_csv(os.path.join(\"..\", \"data\", \"round2\", \"prices_round_2_day_-1.csv\"), sep=\";\")\n",
    "market_data_round_2_day_0 = pd.read_csv(os.path.join(\"..\", \"data\", \"round2\", \"prices_round_2_day_0.csv\"), sep=\";\")\n",
    "market_data_round_2_day_1 = pd.read_csv(os.path.join(\"..\", \"data\", \"round2\", \"prices_round_2_day_1.csv\"), sep=\";\")\n",
    "\n",
    "trades_round_2_day_neg1 = pd.read_csv(os.path.join(\"..\", \"data\", \"round2\", \"trades_round_2_day_-1.csv\"), sep=\";\")\n",
    "trades_round_2_day_0 = pd.read_csv(os.path.join(\"..\", \"data\", \"round2\", \"trades_round_2_day_0.csv\"), sep=\";\")\n",
    "trades_round_2_day_1 = pd.read_csv(os.path.join(\"..\", \"data\", \"round2\", \"trades_round_2_day_1.csv\"), sep=\";\")\n",
    "\n",
    "\n",
    "market_data_round_2_all3days = concatenate_historical_data([market_data_round_2_day_neg1, market_data_round_2_day_0, market_data_round_2_day_1])\n",
    "trades_round_2_all3days = concatenate_historical_data([trades_round_2_day_neg1, trades_round_2_day_0, trades_round_2_day_1])"
   ]
  },
  {
   "cell_type": "markdown",
   "id": "41b64d19",
   "metadata": {},
   "source": [
    "## Round 3"
   ]
  },
  {
   "cell_type": "code",
   "execution_count": 4,
   "id": "99a92c36",
   "metadata": {},
   "outputs": [],
   "source": [
    "market_data_round_3_day_0 = pd.read_csv(os.path.join(\"..\", \"data\", \"round3\", \"prices_round_3_day_0.csv\"), sep=\";\")\n",
    "market_data_round_3_day_1 = pd.read_csv(os.path.join(\"..\", \"data\", \"round3\", \"prices_round_3_day_1.csv\"), sep=\";\")\n",
    "market_data_round_3_day_2 = pd.read_csv(os.path.join(\"..\", \"data\", \"round3\", \"prices_round_3_day_2.csv\"), sep=\";\")\n",
    "\n",
    "trades_round_3_day_0 = pd.read_csv(os.path.join(\"..\", \"data\", \"round3\", \"trades_round_3_day_0.csv\"), sep=\";\")\n",
    "trades_round_3_day_1 = pd.read_csv(os.path.join(\"..\", \"data\", \"round3\", \"trades_round_3_day_1.csv\"), sep=\";\")\n",
    "trades_round_3_day_2 = pd.read_csv(os.path.join(\"..\", \"data\", \"round3\", \"trades_round_3_day_2.csv\"), sep=\";\")\n",
    "\n",
    "\n",
    "market_data_round_3_all3days = concatenate_historical_data([market_data_round_3_day_0, market_data_round_3_day_1, market_data_round_3_day_2])\n",
    "trades_round_3_all3days = concatenate_historical_data([trades_round_3_day_0, trades_round_3_day_1, market_data_round_3_day_2])"
   ]
  },
  {
   "cell_type": "code",
   "execution_count": 5,
   "id": "6ffa7f33",
   "metadata": {},
   "outputs": [
    {
     "data": {
      "text/plain": [
       "['CROISSANTS',\n",
       " 'DJEMBES',\n",
       " 'JAMS',\n",
       " 'KELP',\n",
       " 'PICNIC_BASKET1',\n",
       " 'PICNIC_BASKET2',\n",
       " 'RAINFOREST_RESIN',\n",
       " 'SQUID_INK',\n",
       " 'VOLCANIC_ROCK',\n",
       " 'VOLCANIC_ROCK_VOUCHER_10000',\n",
       " 'VOLCANIC_ROCK_VOUCHER_10250',\n",
       " 'VOLCANIC_ROCK_VOUCHER_10500',\n",
       " 'VOLCANIC_ROCK_VOUCHER_9500',\n",
       " 'VOLCANIC_ROCK_VOUCHER_9750']"
      ]
     },
     "execution_count": 5,
     "metadata": {},
     "output_type": "execute_result"
    }
   ],
   "source": [
    "sorted(np.unique(market_data_round_3_day_0['product']))"
   ]
  }
 ],
 "metadata": {
  "kernelspec": {
   "display_name": "Python 3",
   "language": "python",
   "name": "python3"
  },
  "language_info": {
   "codemirror_mode": {
    "name": "ipython",
    "version": 3
   },
   "file_extension": ".py",
   "mimetype": "text/x-python",
   "name": "python",
   "nbconvert_exporter": "python",
   "pygments_lexer": "ipython3",
   "version": "3.10.11"
  }
 },
 "nbformat": 4,
 "nbformat_minor": 5
}
