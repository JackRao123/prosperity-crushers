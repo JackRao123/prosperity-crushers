{
 "cells": [
  {
   "cell_type": "markdown",
   "id": "9279142a",
   "metadata": {},
   "source": [
    "# Guide on how to use the backtester"
   ]
  },
  {
   "cell_type": "code",
   "execution_count": 1,
   "id": "a715a54c",
   "metadata": {},
   "outputs": [],
   "source": [
    "# Ensure the project root is in PATH.\n",
    "import sys\n",
    "\n",
    "sys.path.append(\"../\")\n",
    "# All imports of our code are relative to the project root.\n",
    "\n",
    "from backtester.backtester import Backtester\n",
    "from backtester.datamodel import TradingState, OrderDepth, Order, Listing\n",
    "import matplotlib.pyplot as plt\n",
    "\n",
    "import numpy as np\n",
    "import pandas as pd\n",
    "import sys\n",
    "import os"
   ]
  },
  {
   "cell_type": "markdown",
   "id": "ff4a2c5b",
   "metadata": {},
   "source": [
    "This is the implementation of our trader"
   ]
  },
  {
   "cell_type": "code",
   "execution_count": 2,
   "id": "1c749aa8",
   "metadata": {},
   "outputs": [],
   "source": [
    "class Trader:\n",
    "    def __init__(self):\n",
    "        self.position_limit = {\"KELP\": 50, \"RAINFOREST_RESIN\": 50}\n",
    "        pass\n",
    "\n",
    "    def take_best_orders(self, state: TradingState, orderbook: OrderDepth) -> list[Order]:\n",
    "        orders: list[Order] = []\n",
    "\n",
    "        symbol = \"RAINFOREST_RESIN\"\n",
    "        position = state.position[symbol] if symbol in state.position else 0\n",
    "\n",
    "        max_buy_amount = self.position_limit[symbol] - position\n",
    "        max_sell_amount = abs(-self.position_limit[symbol] - position)\n",
    "\n",
    "        if len(orderbook.buy_orders) != 0:\n",
    "            best_bid_price = max(orderbook.buy_orders.keys())\n",
    "            best_bid_volume = orderbook.buy_orders[best_bid_price]\n",
    "\n",
    "            if best_bid_price > 10000:\n",
    "                fill_quantity = min(max_sell_amount, best_bid_volume)\n",
    "\n",
    "                if fill_quantity > 0:\n",
    "                    orders.append(Order(symbol, best_bid_price, -fill_quantity))\n",
    "                    del orderbook.buy_orders[best_bid_price]\n",
    "\n",
    "        if len(orderbook.sell_orders) != 0:\n",
    "            best_ask_price = min(orderbook.sell_orders.keys())\n",
    "            best_ask_volume = abs(orderbook.sell_orders[best_ask_price])\n",
    "\n",
    "            if best_ask_price < 10000:\n",
    "                fill_quantity = min(max_buy_amount, best_ask_volume)\n",
    "\n",
    "                if fill_quantity > 0:\n",
    "                    orders.append(Order(symbol, best_ask_price, fill_quantity))\n",
    "                    del orderbook.sell_orders[best_ask_price]\n",
    "\n",
    "        return orders\n",
    "\n",
    "    def run(self, state: TradingState):\n",
    "        result = {}\n",
    "        for product in state.order_depths:\n",
    "            orders: list[Order] = []\n",
    "\n",
    "            if product == \"RAINFOREST_RESIN\":\n",
    "                took = self.take_best_orders(state, state.order_depths[product])\n",
    "\n",
    "                while len(took) != 0:\n",
    "                    orders = orders + took\n",
    "                    took = self.take_best_orders(state, state.order_depths[product])\n",
    "\n",
    "            result[product] = orders\n",
    "        traderData = \"SAMPLE\"  # String value holding Trader state data required. It will be delivered as TradingState.traderData on next execution.\n",
    "\n",
    "        conversions = 1\n",
    "        return result, conversions, traderData"
   ]
  },
  {
   "cell_type": "markdown",
   "id": "b8687284",
   "metadata": {},
   "source": [
    "Copy paste these below lines whenever you want to access the historical data. These have datatype `pd.Dataframe`.  \n",
    "\n",
    "If you want all 3 days combined into 1, then copy the code for `market_data_all3days` and `trades_all3days`. You can't just `pd.concat()` them all because the backtester doesn't consider day."
   ]
  },
  {
   "cell_type": "code",
   "execution_count": 3,
   "id": "6092f218",
   "metadata": {},
   "outputs": [],
   "source": [
    "market_data_round_3_day_0 = pd.read_csv(os.path.join(\"..\", \"data\", \"round3\", \"prices_round_3_day_0.csv\"), sep=\";\")\n",
    "market_data_round_3_day_1 = pd.read_csv(os.path.join(\"..\", \"data\", \"round3\", \"prices_round_3_day_1.csv\"), sep=\";\")\n",
    "market_data_round_3_day_2 = pd.read_csv(os.path.join(\"..\", \"data\", \"round3\", \"prices_round_3_day_2.csv\"), sep=\";\")\n",
    "\n",
    "trades_round_3_day_0 = pd.read_csv(os.path.join(\"..\", \"data\", \"round3\", \"trades_round_3_day_0.csv\"), sep=\";\")\n",
    "trades_round_3_day_1 = pd.read_csv(os.path.join(\"..\", \"data\", \"round3\", \"trades_round_3_day_1.csv\"), sep=\";\")\n",
    "trades_round_3_day_2 = pd.read_csv(os.path.join(\"..\", \"data\", \"round3\", \"trades_round_3_day_2.csv\"), sep=\";\")\n",
    "\n",
    "\n",
    "\n",
    "# concatenates multiple days of historical data into 1.\n",
    "# drops day column and replaces it with continuous timestamps.\n",
    "# i.e. day -1 timestamp 0 becomes just timestamp 1,000,000\n",
    "def concatenate_historical_data(data: list[pd.DataFrame]) -> pd.DataFrame:\n",
    "    output = data[0]\n",
    "\n",
    "    for i in range(1, len(data), 1):\n",
    "        timeshift = output.iloc[-1][\"timestamp\"] + 100  # 100 for next day\n",
    "        next_day_copy = data[i].copy()\n",
    "        next_day_copy[\"timestamp\"] += timeshift\n",
    "\n",
    "        output = pd.concat([output, next_day_copy])\n",
    "\n",
    "    return output\n",
    "\n",
    "\n",
    "market_data_round_3_all3days = concatenate_historical_data([market_data_round_3_day_0, market_data_round_3_day_1, market_data_round_3_day_2])\n",
    "trades_round_3_all3days = concatenate_historical_data([trades_round_3_day_0, trades_round_3_day_1, market_data_round_3_day_2])"
   ]
  },
  {
   "cell_type": "markdown",
   "id": "612809cc",
   "metadata": {},
   "source": [
    "Lets run the backtester"
   ]
  },
  {
   "cell_type": "code",
   "execution_count": 4,
   "id": "2e4cd6ae",
   "metadata": {},
   "outputs": [
    {
     "data": {
      "text/plain": [
       "(10042.0,\n",
       " 10042.0,\n",
       " {'spreadcrossing': {'RAINFOREST_RESIN': 10042.0, 'total': 10042.0},\n",
       "  'midpoint': {'RAINFOREST_RESIN': 23328.0, 'total': 23328.0}})"
      ]
     },
     "execution_count": 4,
     "metadata": {},
     "output_type": "execute_result"
    }
   ],
   "source": [
    "# 1. Define the listings. (optimisation - only define symbols we are trading)\n",
    "listings = {\n",
    "    # \"CROISSANTS\": Listing(symbol=\"CROISSANTS\", product=\"CROISSANTS\", denomination=\"SEASHELLS\"),\n",
    "    # \"DJEMBES\": Listing(symbol=\"DJEMBES\", product=\"DJEMBES\", denomination=\"SEASHELLS\"),\n",
    "    # \"JAMS\": Listing(symbol=\"JAM\", product=\"JAM\", denomination=\"SEASHELLS\"),\n",
    "    # \"KELP\": Listing(symbol=\"KELP\", product=\"KELP\", denomination=\"SEASHELLS\"),\n",
    "    # \"PICNIC_BASKET1\": Listing(symbol=\"PICNIC_BASKET1\", product=\"PICNIC_BASKET1\", denomination=\"SEASHELLS\"),\n",
    "    # \"PICNIC_BASKET2\": Listing(symbol=\"PICNIC_BASKET2\", product=\"PICNIC_BASKET2\", denomination=\"SEASHELLS\"),\n",
    "    \"RAINFOREST_RESIN\": Listing(symbol=\"RAINFOREST_RESIN\", product=\"RAINFOREST_RESIN\", denomination=\"SEASHELLS\"),\n",
    "    # \"SQUID_INK\": Listing(symbol=\"SQUID_INK\", product=\"SQUID_INK\", denomination=\"SEASHELLS\"),\n",
    "    # \"VOLCANIC_ROCK\": Listing(symbol=\"VOLCANIC_ROCK\", product=\"VOLCANIC_ROCK\", denomination=\"SEASHELLS\"),\n",
    "    # \"VOLCANIC_ROCK_VOUCHER_10000\": Listing(symbol=\"VOLCANIC_ROCK_VOUCHER_10000\", product=\"VOLCANIC_ROCK_VOUCHER_10000\", denomination=\"SEASHELLS\"),\n",
    "    # \"VOLCANIC_ROCK_VOUCHER_10250\": Listing(symbol=\"VOLCANIC_ROCK_VOUCHER_10250\", product=\"VOLCANIC_ROCK_VOUCHER_10250\", denomination=\"SEASHELLS\"),\n",
    "    # \"VOLCANIC_ROCK_VOUCHER_10500\": Listing(symbol=\"VOLCANIC_ROCK_VOUCHER_10500\", product=\"VOLCANIC_ROCK_VOUCHER_10500\", denomination=\"SEASHELLS\"),\n",
    "    # \"VOLCANIC_ROCK_VOUCHER_9500\": Listing(symbol=\"VOLCANIC_ROCK_VOUCHER_9500\", product=\"VOLCANIC_ROCK_VOUCHER_9500\", denomination=\"SEASHELLS\"),\n",
    "    # \"VOLCANIC_ROCK_VOUCHER_9750\": Listing(symbol=\"VOLCANIC_ROCK_VOUCHER_9750\", product=\"VOLCANIC_ROCK_VOUCHER_9750\", denomination=\"SEASHELLS\"),\n",
    "}\n",
    "\n",
    "# 2. Define the position limits. (optimisation - only define symbols we are trading)\n",
    "position_limit = {\n",
    "    # \"CROISSANTS\": 250,\n",
    "    # \"DJEMBES\": 60,\n",
    "    # \"JAMS\": 350,\n",
    "    # \"KELP\": 50,\n",
    "    # \"PICNIC_BASKET1\": 60,\n",
    "    # \"PICNIC_BASKET2\": 100,\n",
    "    \"RAINFOREST_RESIN\": 50,\n",
    "    # \"SQUID_INK\": 50,\n",
    "    # \"VOLCANIC_ROCK\": 400,\n",
    "    # \"VOLCANIC_ROCK_VOUCHER_10000\": 200,\n",
    "    # \"VOLCANIC_ROCK_VOUCHER_10250\": 200,\n",
    "    # \"VOLCANIC_ROCK_VOUCHER_10500\": 200,\n",
    "    # \"VOLCANIC_ROCK_VOUCHER_9500\": 200,\n",
    "    # \"VOLCANIC_ROCK_VOUCHER_9750\": 200,\n",
    "}\n",
    "\n",
    "\n",
    "# 4. Market data and trade history files. (look at the previous cell)\n",
    "\n",
    "# 5. Instantiate Trader object\n",
    "trader = Trader()\n",
    "\n",
    "# 6. Instantiate Backtester object\n",
    "bt = Backtester(trader, listings, position_limit, market_data_round_3_day_0, trades_round_3_day_0)\n",
    "\n",
    "\n",
    "bt.run()\n",
    "\n",
    "\n",
    "# double layer dictionary.\n",
    "resinpnl = bt.pnl()[\"spreadcrossing\"][\"RAINFOREST_RESIN\"]\n",
    "totalpnl = bt.pnl()[\"spreadcrossing\"][\"total\"]\n",
    "resinpnl, totalpnl, bt.pnl()"
   ]
  },
  {
   "cell_type": "markdown",
   "id": "14a831e9",
   "metadata": {},
   "source": [
    "You can copy paste everything, except for the Trader algo, which should be whatever algo you wish to backtest."
   ]
  },
  {
   "cell_type": "markdown",
   "id": "b3224a61",
   "metadata": {},
   "source": [
    "Let's look at some metrics now.\n",
    "\n",
    "Note:\n",
    "- `get_metric` function is now deleted.\n",
    "- `bt.pnl` is also deleted.\n",
    "- If you want metrics, use `calculate_metrics(product)`.\n",
    "\n",
    "Old way:\n",
    "    bt.get_metric('midpoint_sharpe', 'KELP')\n",
    "\n",
    "New way:\n",
    "    metrics = bt.calculate_metrics('KELP')\n",
    "    metric = metrics['midpoint_sharpe']"
   ]
  },
  {
   "cell_type": "code",
   "execution_count": 5,
   "id": "2bbe639d",
   "metadata": {},
   "outputs": [
    {
     "name": "stdout",
     "output_type": "stream",
     "text": [
      "Available metrics: dict_keys(['timestamp', 'spreadcrossing_pnl', 'spreadcrossing_final_pnl', 'spreadcrossing_sharpe', 'spreadcrossing_pnl_bps', 'midpoint_pnl', 'midpoint_final_pnl', 'midpoint_sharpe', 'midpoint_pnl_bps'])\n"
     ]
    },
    {
     "data": {
      "text/plain": [
       "<matplotlib.legend.Legend at 0x12db82e10>"
      ]
     },
     "execution_count": 5,
     "metadata": {},
     "output_type": "execute_result"
    },
    {
     "data": {
      "image/png": "[encoded data removed]",
      "text/plain": [
       "<Figure size 1200x600 with 1 Axes>"
      ]
     },
     "metadata": {},
     "output_type": "display_data"
    }
   ],
   "source": [
    "metrics = bt.calculate_metrics(\"RAINFOREST_RESIN\")\n",
    "\n",
    "print(f\"Available metrics: {metrics.keys()}\")\n",
    "\n",
    "# metrics['timestamp'] is provided for convenience.\n",
    "# this should line up with metrics['midpoint_pnl'] and metrics['spreadcrossing_pnl'] (i.e. same shape)\n",
    "\n",
    "plt.figure(figsize=(12, 6))\n",
    "plt.plot(metrics[\"timestamp\"], metrics[\"midpoint_pnl\"], label=\"midpoint_pnl\")\n",
    "plt.plot(metrics[\"timestamp\"], metrics[\"spreadcrossing_pnl\"], label=\"spreadcrossing_pnl\")\n",
    "plt.title(\"resinmaxxing\")\n",
    "plt.xlabel(\"time\")\n",
    "plt.ylabel(\"profit\")\n",
    "plt.legend()"
   ]
  },
  {
   "cell_type": "code",
   "execution_count": null,
   "id": "eaef0990-a268-4b54-a351-6cbb6c0f66ad",
   "metadata": {},
   "outputs": [],
   "source": []
  }
 ],
 "metadata": {
  "kernelspec": {
   "display_name": "Python 3 (ipykernel)",
   "language": "python",
   "name": "python3"
  },
  "language_info": {
   "codemirror_mode": {
    "name": "ipython",
    "version": 3
   },
   "file_extension": ".py",
   "mimetype": "text/x-python",
   "name": "python",
   "nbconvert_exporter": "python",
   "pygments_lexer": "ipython3",
   "version": "3.11.8"
  }
 },
 "nbformat": 4,
 "nbformat_minor": 5
}
