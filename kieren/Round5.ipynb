{
 "cells": [
  {
   "cell_type": "code",
   "execution_count": 7,
   "id": "15cd0e0f-5dcc-4485-9de5-8fed819c87a7",
   "metadata": {},
   "outputs": [],
   "source": [
    "from wolframclient.evaluation import WolframLanguageSession\n",
    "from wolframclient.language import wl, wlexpr\n",
    "import numpy as np\n",
    "import cvxpy as cp"
   ]
  },
  {
   "cell_type": "code",
   "execution_count": 2,
   "id": "4d695c7a",
   "metadata": {},
   "outputs": [
    {
     "name": "stdout",
     "output_type": "stream",
     "text": [
      "Polishing not needed - no active set detected at optimal point\n",
      "Continuous optimum:\n",
      "  Haystacks      :    2.08%\n",
      "  Ranch Sauce    :    6.25%\n",
      "  Cacti Needle   :  -16.67%\n",
      "  Solar panels   :  -16.67%\n",
      "  Red Flags      :    6.25%\n",
      "  VR Monacle     :    0.00%\n",
      "  Quantum Coffee :  -16.67%\n",
      "  Moonshine      :    0.00%\n",
      "  Striped Shirts :    0.00%\n",
      "\n",
      "===============================================================================\n",
      "                                     CVXPY                                     \n",
      "                                     v1.6.5                                    \n",
      "===============================================================================\n",
      "(CVXPY) Apr 22 03:51:47 PM: Your problem has 9 variables, 1 constraints, and 0 parameters.\n",
      "(CVXPY) Apr 22 03:51:47 PM: It is compliant with the following grammars: DCP, DQCP\n",
      "(CVXPY) Apr 22 03:51:47 PM: (If you need to solve this problem multiple times, but with different data, consider using parameters.)\n",
      "(CVXPY) Apr 22 03:51:47 PM: CVXPY will first compile your problem; then, it will invoke a numerical solver to obtain a solution.\n",
      "(CVXPY) Apr 22 03:51:47 PM: Your problem is compiled with the CPP canonicalization backend.\n"
     ]
    },
    {
     "ename": "SolverError",
     "evalue": "The solver ECOS_BB is not installed.",
     "output_type": "error",
     "traceback": [
      "\u001b[31m---------------------------------------------------------------------------\u001b[39m",
      "\u001b[31mSolverError\u001b[39m                               Traceback (most recent call last)",
      "\u001b[36mCell\u001b[39m\u001b[36m \u001b[39m\u001b[32mIn[2]\u001b[39m\u001b[32m, line 52\u001b[39m\n\u001b[32m     49\u001b[39m prob_int = cp.Problem(obj_int, cons_int)\n\u001b[32m     51\u001b[39m \u001b[38;5;66;03m# ECOS_BB is cvxpy’s builtin MIP/QP solver; you can also specify GLPK_MI or SCIP if installed\u001b[39;00m\n\u001b[32m---> \u001b[39m\u001b[32m52\u001b[39m \u001b[43mprob_int\u001b[49m\u001b[43m.\u001b[49m\u001b[43msolve\u001b[49m\u001b[43m(\u001b[49m\u001b[43msolver\u001b[49m\u001b[43m=\u001b[49m\u001b[43mcp\u001b[49m\u001b[43m.\u001b[49m\u001b[43mECOS_BB\u001b[49m\u001b[43m,\u001b[49m\u001b[43m \u001b[49m\u001b[43mverbose\u001b[49m\u001b[43m=\u001b[49m\u001b[38;5;28;43;01mTrue\u001b[39;49;00m\u001b[43m)\u001b[49m\n\u001b[32m     54\u001b[39m \u001b[38;5;28mprint\u001b[39m(\u001b[33m\"\u001b[39m\u001b[33mInteger‑constrained optimum:\u001b[39m\u001b[33m\"\u001b[39m)\n\u001b[32m     55\u001b[39m \u001b[38;5;28;01mfor\u001b[39;00m p, v \u001b[38;5;129;01min\u001b[39;00m \u001b[38;5;28mzip\u001b[39m(products, pi_int.value):\n",
      "\u001b[36mFile \u001b[39m\u001b[32m/opt/homebrew/lib/python3.11/site-packages/cvxpy/problems/problem.py:600\u001b[39m, in \u001b[36mProblem.solve\u001b[39m\u001b[34m(self, *args, **kwargs)\u001b[39m\n\u001b[32m    597\u001b[39m         \u001b[38;5;28;01mraise\u001b[39;00m \u001b[38;5;167;01mValueError\u001b[39;00m(\n\u001b[32m    598\u001b[39m             \u001b[33m\"\u001b[39m\u001b[33mCannot specify both \u001b[39m\u001b[33m'\u001b[39m\u001b[33msolver\u001b[39m\u001b[33m'\u001b[39m\u001b[33m and \u001b[39m\u001b[33m'\u001b[39m\u001b[33msolver_path\u001b[39m\u001b[33m'\u001b[39m\u001b[33m. Please choose one.\u001b[39m\u001b[33m\"\u001b[39m)\n\u001b[32m    599\u001b[39m     \u001b[38;5;28;01mreturn\u001b[39;00m \u001b[38;5;28mself\u001b[39m._solve_solver_path(solve_func,solver_path, args, kwargs)\n\u001b[32m--> \u001b[39m\u001b[32m600\u001b[39m \u001b[38;5;28;01mreturn\u001b[39;00m \u001b[43msolve_func\u001b[49m\u001b[43m(\u001b[49m\u001b[38;5;28;43mself\u001b[39;49m\u001b[43m,\u001b[49m\u001b[43m \u001b[49m\u001b[43m*\u001b[49m\u001b[43margs\u001b[49m\u001b[43m,\u001b[49m\u001b[43m \u001b[49m\u001b[43m*\u001b[49m\u001b[43m*\u001b[49m\u001b[43mkwargs\u001b[49m\u001b[43m)\u001b[49m\n",
      "\u001b[36mFile \u001b[39m\u001b[32m/opt/homebrew/lib/python3.11/site-packages/cvxpy/problems/problem.py:1170\u001b[39m, in \u001b[36mProblem._solve\u001b[39m\u001b[34m(self, solver, warm_start, verbose, gp, qcp, requires_grad, enforce_dpp, ignore_dpp, canon_backend, **kwargs)\u001b[39m\n\u001b[32m   1167\u001b[39m         \u001b[38;5;28mself\u001b[39m.unpack(chain.retrieve(soln))\n\u001b[32m   1168\u001b[39m         \u001b[38;5;28;01mreturn\u001b[39;00m \u001b[38;5;28mself\u001b[39m.value\n\u001b[32m-> \u001b[39m\u001b[32m1170\u001b[39m data, solving_chain, inverse_data = \u001b[38;5;28;43mself\u001b[39;49m\u001b[43m.\u001b[49m\u001b[43mget_problem_data\u001b[49m\u001b[43m(\u001b[49m\n\u001b[32m   1171\u001b[39m \u001b[43m    \u001b[49m\u001b[43msolver\u001b[49m\u001b[43m,\u001b[49m\u001b[43m \u001b[49m\u001b[43mgp\u001b[49m\u001b[43m,\u001b[49m\u001b[43m \u001b[49m\u001b[43menforce_dpp\u001b[49m\u001b[43m,\u001b[49m\u001b[43m \u001b[49m\u001b[43mignore_dpp\u001b[49m\u001b[43m,\u001b[49m\u001b[43m \u001b[49m\u001b[43mverbose\u001b[49m\u001b[43m,\u001b[49m\u001b[43m \u001b[49m\u001b[43mcanon_backend\u001b[49m\u001b[43m,\u001b[49m\u001b[43m \u001b[49m\u001b[43mkwargs\u001b[49m\n\u001b[32m   1172\u001b[39m \u001b[43m\u001b[49m\u001b[43m)\u001b[49m\n\u001b[32m   1174\u001b[39m \u001b[38;5;28;01mif\u001b[39;00m verbose:\n\u001b[32m   1175\u001b[39m     \u001b[38;5;28mprint\u001b[39m(_NUM_SOLVER_STR)\n",
      "\u001b[36mFile \u001b[39m\u001b[32m/opt/homebrew/lib/python3.11/site-packages/cvxpy/problems/problem.py:743\u001b[39m, in \u001b[36mProblem.get_problem_data\u001b[39m\u001b[34m(self, solver, gp, enforce_dpp, ignore_dpp, verbose, canon_backend, solver_opts)\u001b[39m\n\u001b[32m    741\u001b[39m \u001b[38;5;28;01mif\u001b[39;00m key != \u001b[38;5;28mself\u001b[39m._cache.key:\n\u001b[32m    742\u001b[39m     \u001b[38;5;28mself\u001b[39m._cache.invalidate()\n\u001b[32m--> \u001b[39m\u001b[32m743\u001b[39m     solving_chain = \u001b[38;5;28;43mself\u001b[39;49m\u001b[43m.\u001b[49m\u001b[43m_construct_chain\u001b[49m\u001b[43m(\u001b[49m\n\u001b[32m    744\u001b[39m \u001b[43m        \u001b[49m\u001b[43msolver\u001b[49m\u001b[43m=\u001b[49m\u001b[43msolver\u001b[49m\u001b[43m,\u001b[49m\u001b[43m \u001b[49m\u001b[43mgp\u001b[49m\u001b[43m=\u001b[49m\u001b[43mgp\u001b[49m\u001b[43m,\u001b[49m\n\u001b[32m    745\u001b[39m \u001b[43m        \u001b[49m\u001b[43menforce_dpp\u001b[49m\u001b[43m=\u001b[49m\u001b[43menforce_dpp\u001b[49m\u001b[43m,\u001b[49m\n\u001b[32m    746\u001b[39m \u001b[43m        \u001b[49m\u001b[43mignore_dpp\u001b[49m\u001b[43m=\u001b[49m\u001b[43mignore_dpp\u001b[49m\u001b[43m,\u001b[49m\n\u001b[32m    747\u001b[39m \u001b[43m        \u001b[49m\u001b[43mcanon_backend\u001b[49m\u001b[43m=\u001b[49m\u001b[43mcanon_backend\u001b[49m\u001b[43m,\u001b[49m\n\u001b[32m    748\u001b[39m \u001b[43m        \u001b[49m\u001b[43msolver_opts\u001b[49m\u001b[43m=\u001b[49m\u001b[43msolver_opts\u001b[49m\u001b[43m)\u001b[49m\n\u001b[32m    749\u001b[39m     \u001b[38;5;28mself\u001b[39m._cache.key = key\n\u001b[32m    750\u001b[39m     \u001b[38;5;28mself\u001b[39m._cache.solving_chain = solving_chain\n",
      "\u001b[36mFile \u001b[39m\u001b[32m/opt/homebrew/lib/python3.11/site-packages/cvxpy/problems/problem.py:992\u001b[39m, in \u001b[36mProblem._construct_chain\u001b[39m\u001b[34m(self, solver, gp, enforce_dpp, ignore_dpp, canon_backend, solver_opts)\u001b[39m\n\u001b[32m    950\u001b[39m \u001b[38;5;28;01mdef\u001b[39;00m\u001b[38;5;250m \u001b[39m\u001b[34m_construct_chain\u001b[39m(\n\u001b[32m    951\u001b[39m         \u001b[38;5;28mself\u001b[39m,\n\u001b[32m    952\u001b[39m         solver: Optional[\u001b[38;5;28mstr\u001b[39m] = \u001b[38;5;28;01mNone\u001b[39;00m,\n\u001b[32m   (...)\u001b[39m\u001b[32m    957\u001b[39m         solver_opts: Optional[\u001b[38;5;28mdict\u001b[39m] = \u001b[38;5;28;01mNone\u001b[39;00m\n\u001b[32m    958\u001b[39m ) -> SolvingChain:\n\u001b[32m    959\u001b[39m \u001b[38;5;250m    \u001b[39m\u001b[33;03m\"\"\"\u001b[39;00m\n\u001b[32m    960\u001b[39m \u001b[33;03m    Construct the chains required to reformulate and solve the problem.\u001b[39;00m\n\u001b[32m    961\u001b[39m \n\u001b[32m   (...)\u001b[39m\u001b[32m    990\u001b[39m \u001b[33;03m    A solving chain\u001b[39;00m\n\u001b[32m    991\u001b[39m \u001b[33;03m    \"\"\"\u001b[39;00m\n\u001b[32m--> \u001b[39m\u001b[32m992\u001b[39m     candidate_solvers = \u001b[38;5;28;43mself\u001b[39;49m\u001b[43m.\u001b[49m\u001b[43m_find_candidate_solvers\u001b[49m\u001b[43m(\u001b[49m\u001b[43msolver\u001b[49m\u001b[43m=\u001b[49m\u001b[43msolver\u001b[49m\u001b[43m,\u001b[49m\u001b[43m \u001b[49m\u001b[43mgp\u001b[49m\u001b[43m=\u001b[49m\u001b[43mgp\u001b[49m\u001b[43m)\u001b[49m\n\u001b[32m    993\u001b[39m     \u001b[38;5;28mself\u001b[39m._sort_candidate_solvers(candidate_solvers)\n\u001b[32m    994\u001b[39m     \u001b[38;5;28;01mreturn\u001b[39;00m construct_solving_chain(\u001b[38;5;28mself\u001b[39m, candidate_solvers, gp=gp,\n\u001b[32m    995\u001b[39m                                    enforce_dpp=enforce_dpp,\n\u001b[32m    996\u001b[39m                                    ignore_dpp=ignore_dpp,\n\u001b[32m    997\u001b[39m                                    canon_backend=canon_backend,\n\u001b[32m    998\u001b[39m                                    solver_opts=solver_opts,\n\u001b[32m    999\u001b[39m                                    specified_solver=solver)\n",
      "\u001b[36mFile \u001b[39m\u001b[32m/opt/homebrew/lib/python3.11/site-packages/cvxpy/problems/problem.py:855\u001b[39m, in \u001b[36mProblem._find_candidate_solvers\u001b[39m\u001b[34m(self, solver, gp)\u001b[39m\n\u001b[32m    853\u001b[39m \u001b[38;5;28;01mif\u001b[39;00m solver \u001b[38;5;129;01mis\u001b[39;00m \u001b[38;5;129;01mnot\u001b[39;00m \u001b[38;5;28;01mNone\u001b[39;00m:\n\u001b[32m    854\u001b[39m     \u001b[38;5;28;01mif\u001b[39;00m solver \u001b[38;5;129;01mnot\u001b[39;00m \u001b[38;5;129;01min\u001b[39;00m slv_def.INSTALLED_SOLVERS:\n\u001b[32m--> \u001b[39m\u001b[32m855\u001b[39m         \u001b[38;5;28;01mraise\u001b[39;00m error.SolverError(\u001b[33m\"\u001b[39m\u001b[33mThe solver \u001b[39m\u001b[38;5;132;01m%s\u001b[39;00m\u001b[33m is not installed.\u001b[39m\u001b[33m\"\u001b[39m % solver)\n\u001b[32m    856\u001b[39m     \u001b[38;5;28;01mif\u001b[39;00m solver \u001b[38;5;129;01min\u001b[39;00m slv_def.CONIC_SOLVERS:\n\u001b[32m    857\u001b[39m         candidates[\u001b[33m'\u001b[39m\u001b[33mconic_solvers\u001b[39m\u001b[33m'\u001b[39m] += [solver]\n",
      "\u001b[31mSolverError\u001b[39m: The solver ECOS_BB is not installed."
     ]
    }
   ],
   "source": [
    "import numpy as np\n",
    "import cvxpy as cp\n",
    "\n",
    "# 1) Define your sentiment and return maps\n",
    "sentiments = {\n",
    "    'Haystacks': '+', \n",
    "    'Ranch Sauce': '++',\n",
    "    'Cacti Needle': '---', \n",
    "    'Solar panels': '---',\n",
    "    'Red Flags': '++', \n",
    "    'VR Monacle': 'x',\n",
    "    'Quantum Coffee': '---',\n",
    "    'Moonshine': 'x',\n",
    "    'Striped Shirts': 'x'\n",
    "}\n",
    "returns_map = {\n",
    "    '+':   0.05,\n",
    "    '++':  0.15,\n",
    "    '+++': 0.25,\n",
    "    '++++':0.50,\n",
    "    'x':   0.0,\n",
    "    '-':  -0.05,\n",
    "    '--': -0.10,\n",
    "    '---':-0.40,\n",
    "    '----':-0.60\n",
    "}\n",
    "\n",
    "products = list(sentiments.keys())\n",
    "# build the expected‑return vector in the same order\n",
    "rets = np.array([returns_map[sentiments[p]] for p in products])\n",
    "\n",
    "# 2) Continuous relaxation (just for reference)\n",
    "pi_cont = cp.Variable(len(products))\n",
    "obj_cont = cp.Minimize( 90*cp.sum_squares(pi_cont)\n",
    "                      - 7500 * rets @ pi_cont )\n",
    "cons_cont = [cp.norm1(pi_cont) <= 100]\n",
    "prob_cont = cp.Problem(obj_cont, cons_cont)\n",
    "prob_cont.solve()\n",
    "print(\"Continuous optimum:\")\n",
    "for p, v in zip(products, pi_cont.value):\n",
    "    print(f\"  {p:15s}: {v:7.2f}%\")\n",
    "print()\n",
    "\n",
    "# 3) Mixed‑integer QP for the exact integer solution\n",
    "pi_int = cp.Variable(len(products), integer=True)\n",
    "obj_int = cp.Maximize( 7500 * rets @ pi_int\n",
    "                     - 90 * cp.sum_squares(pi_int) )\n",
    "cons_int = [cp.norm1(pi_int) <= 100]\n",
    "prob_int = cp.Problem(obj_int, cons_int)\n",
    "\n",
    "# ECOS_BB is cvxpy’s builtin MIP/QP solver; you can also specify GLPK_MI or SCIP if installed\n",
    "prob_int.solve(solver=cp.ECOS_BB, verbose=True)\n",
    "\n",
    "print(\"Integer‑constrained optimum:\")\n",
    "for p, v in zip(products, pi_int.value):\n",
    "    print(f\"  {p:15s}: {v:7.0f}%\")\n"
   ]
  },
  {
   "cell_type": "code",
   "execution_count": 3,
   "id": "f3aec7fd",
   "metadata": {},
   "outputs": [
    {
     "name": "stdout",
     "output_type": "stream",
     "text": [
      "Polishing not needed - no active set detected at optimal point\n",
      "Continuous solution:\n",
      "  Haystacks      :    2.08%\n",
      "  Ranch Sauce    :    6.25%\n",
      "  Cacti Needle   :  -16.67%\n",
      "  Solar panels   :  -16.67%\n",
      "  Red Flags      :    6.25%\n",
      "  VR Monacle     :    0.00%\n",
      "  Quantum Coffee :  -16.67%\n",
      "  Moonshine      :    0.00%\n",
      "  Striped Shirts :    0.00%\n",
      "\n",
      "===============================================================================\n",
      "                                     CVXPY                                     \n",
      "                                     v1.6.5                                    \n",
      "===============================================================================\n",
      "(CVXPY) Apr 22 03:52:51 PM: Your problem has 9 variables, 1 constraints, and 0 parameters.\n",
      "(CVXPY) Apr 22 03:52:51 PM: It is compliant with the following grammars: DCP, DQCP\n",
      "(CVXPY) Apr 22 03:52:51 PM: (If you need to solve this problem multiple times, but with different data, consider using parameters.)\n",
      "(CVXPY) Apr 22 03:52:51 PM: CVXPY will first compile your problem; then, it will invoke a numerical solver to obtain a solution.\n",
      "(CVXPY) Apr 22 03:52:51 PM: Your problem is compiled with the CPP canonicalization backend.\n",
      "Integer solution via heuristic:\n",
      "  Haystacks      :       2%\n",
      "  Ranch Sauce    :       6%\n",
      "  Cacti Needle   :     -17%\n",
      "  Solar panels   :     -17%\n",
      "  Red Flags      :       6%\n",
      "  VR Monacle     :       0%\n",
      "  Quantum Coffee :     -17%\n",
      "  Moonshine      :       0%\n",
      "  Striped Shirts :       0%\n"
     ]
    }
   ],
   "source": [
    "import numpy as np\n",
    "import cvxpy as cp\n",
    "from scipy.optimize import minimize\n",
    "\n",
    "# 1) Your data\n",
    "sentiments = {\n",
    "    'Haystacks': '+', \n",
    "    'Ranch Sauce': '++',\n",
    "    'Cacti Needle': '---', \n",
    "    'Solar panels': '---',\n",
    "    'Red Flags': '++', \n",
    "    'VR Monacle': 'x',\n",
    "    'Quantum Coffee': '---',\n",
    "    'Moonshine': 'x',\n",
    "    'Striped Shirts': 'x'\n",
    "}\n",
    "returns_map = {\n",
    "    '+':   0.05,\n",
    "    '++':  0.15,\n",
    "    '+++': 0.25,\n",
    "    '++++':0.50,\n",
    "    'x':   0.0,\n",
    "    '-':  -0.05,\n",
    "    '--': -0.10,\n",
    "    '---':-0.40,\n",
    "    '----':-0.60\n",
    "}\n",
    "\n",
    "products = list(sentiments.keys())\n",
    "rets = np.array([returns_map[sentiments[p]] for p in products])\n",
    "n = len(products)\n",
    "\n",
    "# 2) Continuous relaxation (for reference)\n",
    "pi_cont = cp.Variable(n)\n",
    "obj_cont = cp.Minimize( 90*cp.sum_squares(pi_cont)\n",
    "                      - 7500 * rets @ pi_cont )\n",
    "cons_cont = [cp.norm1(pi_cont) <= 100]\n",
    "prob_cont = cp.Problem(obj_cont, cons_cont)\n",
    "prob_cont.solve()\n",
    "print(\"Continuous solution:\")\n",
    "for p, v in zip(products, pi_cont.value):\n",
    "    print(f\"  {p:15s}: {v:7.2f}%\")\n",
    "print()\n",
    "\n",
    "# 3) Try exact Mixed‐Integer QP with GLPK_MI\n",
    "pi_int = cp.Variable(n, integer=True)\n",
    "obj_int = cp.Maximize( 7500 * rets @ pi_int\n",
    "                     - 90 * cp.sum_squares(pi_int) )\n",
    "cons_int = [cp.norm1(pi_int) <= 100]\n",
    "prob_int = cp.Problem(obj_int, cons_int)\n",
    "\n",
    "try:\n",
    "    prob_int.solve(solver=cp.GLPK_MI, verbose=True)\n",
    "    sol = pi_int.value\n",
    "    method = \"GLPK_MI\"\n",
    "except cp.SolverError:\n",
    "    # 4) Fallback heuristic: round & local improvement\n",
    "    w = pi_cont.value\n",
    "    # scale down/up to satisfy ||π||₁=100\n",
    "    scaled = w * (100/np.sum(np.abs(w)))\n",
    "    sol = np.round(scaled).astype(int)\n",
    "    # adjust if sum >100\n",
    "    diff = int(100 - np.sum(np.abs(sol)))\n",
    "    # distribute the remaining diff greedily to highest returns\n",
    "    if diff > 0:\n",
    "        order = np.argsort(-rets * np.sign(w))\n",
    "        for idx in order:\n",
    "            if diff == 0: break\n",
    "            sol[idx] += int(np.sign(w[idx]))\n",
    "            diff -= 1\n",
    "    # local hill‐climb: try ±1 on each coordinate\n",
    "    def Q(pi):\n",
    "        return - (7500 * rets @ pi - 90 * np.sum(pi**2))\n",
    "    improved = True\n",
    "    while improved:\n",
    "        improved = False\n",
    "        base = Q(sol)\n",
    "        for i in range(n):\n",
    "            for delta in (+1, -1):\n",
    "                cand = sol.copy()\n",
    "                cand[i] += delta\n",
    "                if np.sum(np.abs(cand)) <= 100:\n",
    "                    val = Q(cand)\n",
    "                    if val < base:\n",
    "                        sol, base = cand, val\n",
    "                        improved = True\n",
    "        # loop until no more single‐step improvements\n",
    "    method = \"heuristic\"\n",
    "\n",
    "print(f\"Integer solution via {method}:\")\n",
    "for p, v in zip(products, sol):\n",
    "    print(f\"  {p:15s}: {v:7d}%\")\n"
   ]
  },
  {
   "cell_type": "markdown",
   "id": "39a44d5e-82d8-4b4f-a3a9-4f43eb4180a6",
   "metadata": {},
   "source": [
    "# Problem statement\n",
    "\n",
    "You’ve been invited to trade on the exchange of the north archipelago for one day only. \n",
    "The penguins have granted you access to their trusted news source: Iceberg. \n",
    "You’ll find all the information you need right there. Be aware that trading these foreign goods comes at a price. \n",
    "The more you trade in one good, the more expensive it will get. \n",
    "You will earn or lose money depending on how the market moves and what positions you hold. You have the opportunity to trade all sorts of new goods against yesterday's prices, just in time before the exchange opens for a new day.  You need to predict price moves based on the provided information.\n",
    "This is the final stretch. Make it count! \n",
    "\n",
    "The initial available capital is 750000 SeaShells.\n",
    "\n",
    "The Iceberg news sheet is available [here](https://small.fileditchstuff.me/s10/OdyMAIkSTCnDHdAnfpwJ.pdf).\n",
    "\n",
    "Sample screenshot of the submission panel  \n",
    "<img src=\"https://i.imgur.com/AwkoTHM.png\" width=\"800\" />\n",
    "\n",
    "# Solution\n",
    "\n",
    "The proportion $\\pi_i$ (in $\\%$) allocated to asset $i$ has to be an integer. The fee for this investment is $-90 \\pi_i^2$.  \n",
    "Note that $\\pi_i$ can be negative, meaning that we take a short position in asset $i$.\n",
    "\n",
    "To each product we associate a sentiment that indicates the direction and the magnitude of the expected change in the asset price, after the news break.  \n",
    "Each sentiment is then mapped to a return value.\n",
    "\n",
    "Note that these sentiments and returns are chosen at my discretion and are therefore debatable. However, they are needed to obtain a somewhat systematic solution to this problem, instead of a completely discretionary one."
   ]
  },
  {
   "cell_type": "code",
   "execution_count": 8,
   "id": "3d45a36a-26c1-4e05-81cf-b33b94dc5d9a",
   "metadata": {},
   "outputs": [],
   "source": [
    "sentiments = {\n",
    "    'Haystacks': '+', # long some  -> \n",
    "    'Ranch Sauce': '++',\n",
    "    'Cacti Needle': '---', \n",
    "    'Solar panels': '---',\n",
    "    'Red Flags': '++', # might short more\n",
    "    'VR Monacle': 'x', # + or ++\n",
    "    'Quantum Coffee': '---', # -- or ---\n",
    "    'Moonshine': 'x',\n",
    "    'Striped Shirts': 'x'\n",
    "}\n",
    "\n",
    "returns = {\n",
    "    '+': 0.05,\n",
    "    '++': 0.15,\n",
    "    '+++': 0.25,\n",
    "    '++++': 0.50,\n",
    "    'x': 0.0,\n",
    "    '-': -0.05,\n",
    "    '--': -0.1,\n",
    "    '---': -0.4,\n",
    "    '----': -0.6\n",
    "}\n",
    "\n",
    "products = list(sentiments.keys())"
   ]
  },
  {
   "cell_type": "markdown",
   "id": "ecfe2e73-ad55-4c2d-8a2c-cfc7e01d8a6c",
   "metadata": {},
   "source": [
    "The portfolio optimization problem is\n",
    "$$\\max_{\\pi_1,\\ldots,\\pi_9\\in \\mathbb Z} \\quad \\sum_{i=1}^9 7500r_i \\pi_i  - 90 \\pi_i^2 \\quad \\text{under the constraint}\\quad  \\sum_{i=1}^9 |\\pi_i| \\leq 100,$$\n",
    "where $r_i$ denotes the return anticipated for asset $i$.\n",
    "\n",
    "Without the integer constraints, the problem fits the framework of convex optimization.  \n",
    "Below, we use `cvxpy` to obtain the solution without integer constraints."
   ]
  },
  {
   "cell_type": "code",
   "execution_count": 9,
   "id": "c2efeb85-7c2a-4a28-a863-9efb0cb7d691",
   "metadata": {},
   "outputs": [
    {
     "name": "stdout",
     "output_type": "stream",
     "text": [
      "Polishing not needed - no active set detected at optimal point\n",
      "Optimal allocation without integer constraints:\n",
      "Position in Haystacks: 20.83%\n",
      "Position in Ranch Sauce: 6.25%\n",
      "Position in Cacti Needle: -16.67%\n",
      "Position in Solar panels: -16.67%\n",
      "Position in Red Flags: -4.17%\n",
      "Position in VR Monacle: 2.08%\n",
      "Position in Quantum Coffee: -16.67%\n",
      "Position in Moonshine: 0.00%\n",
      "Position in Striped Shirts: 0.00%\n"
     ]
    }
   ],
   "source": [
    "rets = np.array([returns[sentiments[products[i-1]]] for i in range(1,10)])\n",
    "pi = cp.Variable(9)\n",
    "objective = cp.Minimize(90 * cp.sum_squares(pi) - 7500 * rets.T @ pi)\n",
    "constraints = [cp.norm(pi, 1) <= 100]\n",
    "prob = cp.Problem(objective, constraints)\n",
    "\n",
    "prob.solve()\n",
    "print('Optimal allocation without integer constraints:')\n",
    "for i in range(9):\n",
    "    print(\"Position in \", products[i], ': ', f\"{pi.value[i]:,.2f}\", '%', sep='')"
   ]
  },
  {
   "cell_type": "markdown",
   "id": "96af8bbf-953e-4377-95f6-be215854eb93",
   "metadata": {},
   "source": [
    "We use Mathematica below to numerically solve the fully constrained problem."
   ]
  },
  {
   "cell_type": "code",
   "execution_count": 10,
   "id": "8a403405-c988-4301-b67c-645889047148",
   "metadata": {},
   "outputs": [],
   "source": [
    "#building blocks for the Mathematica command\n",
    "s1 = ' + '.join(['('+str(returns[sentiments[products[i-1]]])+')*p'+str(i)+'*7500-90*(p'+str(i)+')^2' for i in range(1,10)])\n",
    "s2 = ' + '.join(['Abs[p'+str(i)+']' for i in range(1,10)]) + '<=100,'\n",
    "s3 = ', '.join(['Element[p'+str(i)+', Integers]' for i in range(1,10)])\n",
    "s4 = ', '.join(['p'+str(i) for i in range(1,10)])"
   ]
  },
  {
   "cell_type": "code",
   "execution_count": 11,
   "id": "51aa08c7-f292-491c-902d-c3dd3c4c164a",
   "metadata": {},
   "outputs": [
    {
     "data": {
      "text/plain": [
       "'NMaximize[{(0.5)*p1*7500-90*(p1)^2 + (0.15)*p2*7500-90*(p2)^2 + (-0.4)*p3*7500-90*(p3)^2 + (-0.4)*p4*7500-90*(p4)^2 + (-0.1)*p5*7500-90*(p5)^2 + (0.05)*p6*7500-90*(p6)^2 + (-0.4)*p7*7500-90*(p7)^2 + (0.0)*p8*7500-90*(p8)^2 + (0.0)*p9*7500-90*(p9)^2,Abs[p1] + Abs[p2] + Abs[p3] + Abs[p4] + Abs[p5] + Abs[p6] + Abs[p7] + Abs[p8] + Abs[p9]<=100,Element[p1, Integers], Element[p2, Integers], Element[p3, Integers], Element[p4, Integers], Element[p5, Integers], Element[p6, Integers], Element[p7, Integers], Element[p8, Integers], Element[p9, Integers]}, {p1, p2, p3, p4, p5, p6, p7, p8, p9}]'"
      ]
     },
     "execution_count": 11,
     "metadata": {},
     "output_type": "execute_result"
    }
   ],
   "source": [
    "#Mathematica command\n",
    "'NMaximize[{'+s1+','+s2+s3+'}, {'+s4+'}]'"
   ]
  },
  {
   "cell_type": "code",
   "execution_count": 12,
   "id": "10284261-c9e3-420f-8114-b877b0d7b68e",
   "metadata": {},
   "outputs": [
    {
     "ename": "WolframKernelException",
     "evalue": "Cannot locate a kernel automatically. Please provide an explicit kernel path.",
     "output_type": "error",
     "traceback": [
      "\u001b[31m---------------------------------------------------------------------------\u001b[39m",
      "\u001b[31mWolframKernelException\u001b[39m                    Traceback (most recent call last)",
      "\u001b[36mCell\u001b[39m\u001b[36m \u001b[39m\u001b[32mIn[12]\u001b[39m\u001b[32m, line 1\u001b[39m\n\u001b[32m----> \u001b[39m\u001b[32m1\u001b[39m session = \u001b[43mWolframLanguageSession\u001b[49m\u001b[43m(\u001b[49m\u001b[43m)\u001b[49m\n\u001b[32m      2\u001b[39m val_max, sol = session.evaluate(wlexpr(\u001b[33m'\u001b[39m\u001b[33mNMaximize[\u001b[39m\u001b[33m{\u001b[39m\u001b[33m'\u001b[39m+s1+\u001b[33m'\u001b[39m\u001b[33m,\u001b[39m\u001b[33m'\u001b[39m+s2+s3+\u001b[33m'\u001b[39m\u001b[33m}, \u001b[39m\u001b[33m{\u001b[39m\u001b[33m'\u001b[39m+s4+\u001b[33m'\u001b[39m\u001b[33m}]\u001b[39m\u001b[33m'\u001b[39m))\n",
      "\u001b[36mFile \u001b[39m\u001b[32m~/Documents/IMC-Prosperity-2-Manual/r5/lib/python3.13/site-packages/wolframclient/evaluation/kernel/localsession.py:112\u001b[39m, in \u001b[36mWolframLanguageSession.__init__\u001b[39m\u001b[34m(self, kernel, consumer, initfile, kernel_loglevel, stdin, stdout, stderr, inputform_string_evaluation, wxf_bytes_evaluation, controller_class, **kwargs)\u001b[39m\n\u001b[32m    110\u001b[39m \u001b[38;5;28mself\u001b[39m.wxf_bytes_evaluation = wxf_bytes_evaluation\n\u001b[32m    111\u001b[39m \u001b[38;5;28mself\u001b[39m.controller_class = controller_class\n\u001b[32m--> \u001b[39m\u001b[32m112\u001b[39m \u001b[38;5;28mself\u001b[39m.kernel_controller = \u001b[38;5;28;43mself\u001b[39;49m\u001b[43m.\u001b[49m\u001b[43mcontroller_class\u001b[49m\u001b[43m(\u001b[49m\n\u001b[32m    113\u001b[39m \u001b[43m    \u001b[49m\u001b[43mkernel\u001b[49m\u001b[43m=\u001b[49m\u001b[43mkernel\u001b[49m\u001b[43m,\u001b[49m\n\u001b[32m    114\u001b[39m \u001b[43m    \u001b[49m\u001b[43minitfile\u001b[49m\u001b[43m=\u001b[49m\u001b[43minitfile\u001b[49m\u001b[43m,\u001b[49m\n\u001b[32m    115\u001b[39m \u001b[43m    \u001b[49m\u001b[43mkernel_loglevel\u001b[49m\u001b[43m=\u001b[49m\u001b[43mkernel_loglevel\u001b[49m\u001b[43m,\u001b[49m\n\u001b[32m    116\u001b[39m \u001b[43m    \u001b[49m\u001b[43mstdin\u001b[49m\u001b[43m=\u001b[49m\u001b[43mstdin\u001b[49m\u001b[43m,\u001b[49m\n\u001b[32m    117\u001b[39m \u001b[43m    \u001b[49m\u001b[43mstdout\u001b[49m\u001b[43m=\u001b[49m\u001b[43mstdout\u001b[49m\u001b[43m,\u001b[49m\n\u001b[32m    118\u001b[39m \u001b[43m    \u001b[49m\u001b[43mstderr\u001b[49m\u001b[43m=\u001b[49m\u001b[43mstderr\u001b[49m\u001b[43m,\u001b[49m\n\u001b[32m    119\u001b[39m \u001b[43m    \u001b[49m\u001b[43m*\u001b[49m\u001b[43m*\u001b[49m\u001b[43mkwargs\u001b[49m\u001b[43m,\u001b[49m\n\u001b[32m    120\u001b[39m \u001b[43m\u001b[49m\u001b[43m)\u001b[49m\n\u001b[32m    121\u001b[39m \u001b[38;5;28mself\u001b[39m.parameters = kwargs\n\u001b[32m    122\u001b[39m \u001b[38;5;28mself\u001b[39m.stopped = \u001b[38;5;28;01mTrue\u001b[39;00m\n",
      "\u001b[36mFile \u001b[39m\u001b[32m~/Documents/IMC-Prosperity-2-Manual/r5/lib/python3.13/site-packages/wolframclient/evaluation/kernel/kernelcontroller.py:130\u001b[39m, in \u001b[36mWolframKernelController.__init__\u001b[39m\u001b[34m(self, kernel, initfile, consumer, kernel_loglevel, stdin, stdout, stderr, **kwargs)\u001b[39m\n\u001b[32m    127\u001b[39m         \u001b[38;5;28;01mraise\u001b[39;00m WolframKernelException(\u001b[33m\"\u001b[39m\u001b[33mCannot execute kernel \u001b[39m\u001b[38;5;132;01m%s\u001b[39;00m\u001b[33m.\u001b[39m\u001b[33m\"\u001b[39m % \u001b[38;5;28mself\u001b[39m.kernel)\n\u001b[32m    129\u001b[39m \u001b[38;5;28;01melse\u001b[39;00m:\n\u001b[32m--> \u001b[39m\u001b[32m130\u001b[39m     \u001b[38;5;28;01mraise\u001b[39;00m WolframKernelException(\n\u001b[32m    131\u001b[39m         \u001b[33m\"\u001b[39m\u001b[33mCannot locate a kernel automatically. Please provide an explicit kernel path.\u001b[39m\u001b[33m\"\u001b[39m\n\u001b[32m    132\u001b[39m     )\n\u001b[32m    134\u001b[39m \u001b[38;5;28mself\u001b[39m.initfile = \u001b[38;5;28mtuple\u001b[39m(\n\u001b[32m    135\u001b[39m     iterate(initfile \u001b[38;5;129;01mor\u001b[39;00m (), os.path_join(os.dirname(\u001b[34m__file__\u001b[39m), \u001b[33m\"\u001b[39m\u001b[33minitkernel.m\u001b[39m\u001b[33m\"\u001b[39m))\n\u001b[32m    136\u001b[39m )\n\u001b[32m    137\u001b[39m \u001b[38;5;28;01mfor\u001b[39;00m path \u001b[38;5;129;01min\u001b[39;00m \u001b[38;5;28mself\u001b[39m.initfile:\n",
      "\u001b[31mWolframKernelException\u001b[39m: Cannot locate a kernel automatically. Please provide an explicit kernel path."
     ]
    }
   ],
   "source": [
    "session = WolframLanguageSession()\n",
    "val_max, sol = session.evaluate(wlexpr('NMaximize[{'+s1+','+s2+s3+'}, {'+s4+'}]'))"
   ]
  },
  {
   "cell_type": "code",
   "execution_count": 7,
   "id": "a1ee3ad8-db75-40ef-b3e8-6d1bd8c84b7f",
   "metadata": {},
   "outputs": [
    {
     "name": "stdout",
     "output_type": "stream",
     "text": [
      "Maximum profit achievable: 100740.0\n"
     ]
    }
   ],
   "source": [
    "print(\"Maximum profit achievable:\", val_max)"
   ]
  },
  {
   "cell_type": "code",
   "execution_count": 8,
   "id": "ba065ef4-159a-4d41-ad36-0d61902776c3",
   "metadata": {},
   "outputs": [
    {
     "name": "stdout",
     "output_type": "stream",
     "text": [
      "Percentage of capital used: 74%\n"
     ]
    }
   ],
   "source": [
    "print(\"Percentage of capital used: \", sum([abs(el[1]) for el in sol]), '%', sep='')"
   ]
  },
  {
   "cell_type": "code",
   "execution_count": 9,
   "id": "28f65606-7a4a-47a1-be4f-857dafb9855a",
   "metadata": {},
   "outputs": [
    {
     "name": "stdout",
     "output_type": "stream",
     "text": [
      "Position in Refrigerators: 2%\n",
      "Position in Earrings: 6%\n",
      "Position in Blankets: -17%\n",
      "Position in Sleds: -4%\n",
      "Position in Sculptures: 6%\n",
      "Position in PS6: 10%\n",
      "Position in Serum: -25%\n",
      "Position in Lamps: 2%\n",
      "Position in Chocolate: -2%\n"
     ]
    }
   ],
   "source": [
    "for i in range(9):\n",
    "    print(\"Position in \", products[i], ': ', sol[i][1], '%', sep='')"
   ]
  },
  {
   "cell_type": "markdown",
   "id": "4476b6c2-4f21-4da2-9594-4ef9d947831b",
   "metadata": {},
   "source": [
    "Values returned by Mathematica are consistent with those found using `cvxpy`.  \n",
    "Convergence warnings are therefore not a problem."
   ]
  },
  {
   "cell_type": "markdown",
   "id": "18b4b381-8bf7-45b7-a17d-bc1bbd6b5288",
   "metadata": {},
   "source": [
    "# Results\n",
    "Our picks performed better than expected, yielding a profit close to 141 000 SeaShells.\n",
    "\n",
    "<img src=\"https://i.imgur.com/1I4WP0K.png\" width=\"1000\" />"
   ]
  },
  {
   "cell_type": "markdown",
   "id": "e4c59599-b963-48a0-b425-258303ecaea8",
   "metadata": {},
   "source": [
    "Inspecting the json response from the site yields some more precise PNL data for each product, which we incorporate below."
   ]
  },
  {
   "cell_type": "code",
   "execution_count": 10,
   "id": "bb7776e5-7b9e-4443-a1b5-e21215a9fe3b",
   "metadata": {},
   "outputs": [],
   "source": [
    "pnls = {'Refrigerators': -49.29827880859375,\n",
    "        'Earrings': 2325.331298828125,\n",
    "        'Blankets': 15922.716796875,\n",
    "        'Sleds': 7048.611328125,\n",
    "        'Sculptures': 5596.8427734375,\n",
    "        'PS6': 14216.5927734375,\n",
    "        'Serum': 96703.71875,\n",
    "        'Lamps': -359.08447265625,\n",
    "        'Chocolate': -353.9310607910156}"
   ]
  },
  {
   "cell_type": "markdown",
   "id": "0ebb87d7-3389-4f08-9933-fa7c4e12800b",
   "metadata": {},
   "source": [
    "From there we reverse engineer the true return for each product."
   ]
  },
  {
   "cell_type": "code",
   "execution_count": 11,
   "id": "c0b5ba1a-7b04-4321-8024-1e1850f2ea28",
   "metadata": {},
   "outputs": [
    {
     "name": "stdout",
     "output_type": "stream",
     "text": [
      "True return for each product:\n"
     ]
    },
    {
     "data": {
      "text/plain": [
       "{'Refrigerators': 0.020713448079427082,\n",
       " 'Earrings': 0.12367402886284722,\n",
       " 'Blankets': -0.32888405330882353,\n",
       " 'Sleds': -0.2829537109375,\n",
       " 'Sculptures': 0.19637428385416666,\n",
       " 'PS6': 0.3095545703125,\n",
       " 'Serum': -0.8157531666666666,\n",
       " 'Lamps': 6.103515625e-05,\n",
       " 'Chocolate': -0.000404595947265625}"
      ]
     },
     "execution_count": 11,
     "metadata": {},
     "output_type": "execute_result"
    }
   ],
   "source": [
    "rets_true = {products[i]: (pnls[products[i]] + 90*sol[i][1]**2)/(7500*sol[i][1]) for i in range(9)}\n",
    "print(\"True return for each product:\")\n",
    "rets_true"
   ]
  },
  {
   "cell_type": "markdown",
   "id": "c00e07ad-136a-4adf-b7ca-bc4fc273fdf3",
   "metadata": {},
   "source": [
    "For instance, the true return for serum was close to -81.6%.\n",
    "\n",
    "As above we use Mathematica to find the optimal ex-post allocation."
   ]
  },
  {
   "cell_type": "code",
   "execution_count": 12,
   "id": "278fc7b5-b4f6-4b4e-82c2-e8b40ea0bf65",
   "metadata": {},
   "outputs": [
    {
     "name": "stderr",
     "output_type": "stream",
     "text": [
      "Failed to converge to the requested accuracy or precision within 100 iterations.\n",
      "Failed to converge to the requested accuracy or precision within 100 iterations.\n"
     ]
    }
   ],
   "source": [
    "s1 = ' + '.join(['('+'{:.20f}'.format(rets_true[products[i-1]])+')*p'+str(i)+'*7500-90*(p'+str(i)+')^2' for i in range(1,10)])\n",
    "s2 = ' + '.join(['Abs[p'+str(i)+']' for i in range(1,10)]) + '<=100,'\n",
    "s3 = ', '.join(['Element[p'+str(i)+', Integers]' for i in range(1,10)])\n",
    "s4 = ', '.join(['p'+str(i) for i in range(1,10)])\n",
    "\n",
    "session = WolframLanguageSession()\n",
    "val_max, sol = session.evaluate(wlexpr('NMaximize[{'+s1+','+s2+s3+'}, {'+s4+'}]'))"
   ]
  },
  {
   "cell_type": "code",
   "execution_count": 13,
   "id": "13c42f48-7ed4-400e-b3fd-000c20887eb2",
   "metadata": {},
   "outputs": [
    {
     "name": "stdout",
     "output_type": "stream",
     "text": [
      "Maximum profit achievable: 156823\n",
      "Share of capital used: 87%\n",
      "Position in Refrigerators: 1%\n",
      "Position in Earrings: 5%\n",
      "Position in Blankets: -14%\n",
      "Position in Sleds: -12%\n",
      "Position in Sculptures: 8%\n",
      "Position in PS6: 13%\n",
      "Position in Serum: -34%\n",
      "Position in Lamps: 0%\n",
      "Position in Chocolate: 0%\n"
     ]
    }
   ],
   "source": [
    "print(\"Maximum profit achievable:\", f\"{val_max:.0f}\")\n",
    "print(\"Share of capital used: \", sum([abs(el[1]) for el in sol]), '%', sep='')\n",
    "for i in range(9):\n",
    "    print(\"Position in \", products[i], ': ', sol[i][1], '%', sep='')"
   ]
  },
  {
   "cell_type": "code",
   "execution_count": null,
   "id": "d4aff9af-0558-4d78-899f-631d3ca24ed4",
   "metadata": {},
   "outputs": [],
   "source": []
  }
 ],
 "metadata": {
  "kernelspec": {
   "display_name": "Python 3",
   "language": "python",
   "name": "python3"
  },
  "language_info": {
   "codemirror_mode": {
    "name": "ipython",
    "version": 3
   },
   "file_extension": ".py",
   "mimetype": "text/x-python",
   "name": "python",
   "nbconvert_exporter": "python",
   "pygments_lexer": "ipython3",
   "version": "3.11.10"
  }
 },
 "nbformat": 4,
 "nbformat_minor": 5
}
